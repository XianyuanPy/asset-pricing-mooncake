{
 "cells": [
  {
   "cell_type": "markdown",
   "id": "0060960a",
   "metadata": {},
   "source": [
    "# Stochastic Discount Factor"
   ]
  },
  {
   "cell_type": "code",
   "execution_count": 1,
   "id": "822f0718",
   "metadata": {},
   "outputs": [],
   "source": [
    "import numpy as np\n",
    "import pandas as pd\n",
    "import matplotlib.pyplot as plt"
   ]
  },
  {
   "cell_type": "code",
   "execution_count": 2,
   "id": "dc036ccb",
   "metadata": {},
   "outputs": [],
   "source": [
    "%matplotlib inline"
   ]
  },
  {
   "cell_type": "markdown",
   "id": "b56866fc",
   "metadata": {},
   "source": [
    "### Stimulate Consumption Growth"
   ]
  },
  {
   "cell_type": "code",
   "execution_count": 3,
   "id": "bf68c8ab",
   "metadata": {},
   "outputs": [],
   "source": [
    "#randomly generate epsilon and nu\n",
    "\n",
    "epsilon = []\n",
    "nu = []\n",
    "mu = 0.02\n",
    "sigma = 0.02\n",
    "def monte_carlo(times):\n",
    "    for i in range(times):\n",
    "        epsilon.append(np.random.standard_normal())\n",
    "        x = np.random.uniform()\n",
    "        if x < 0.017:\n",
    "            nu.append(np.log(0.65))\n",
    "        else: nu.append(0)\n",
    "    random_variables = pd.DataFrame([epsilon, nu], index = ['$\\tilde ε$', '$\\tilde ν$']).T\n",
    "    random_variables['$ln\\tilde g$'] = mu + sigma * random_variables['$\\tilde ε$'] + random_variables['$\\tilde ν$']\n",
    "    return random_variables"
   ]
  },
  {
   "cell_type": "code",
   "execution_count": 4,
   "id": "442c1f91",
   "metadata": {
    "scrolled": true
   },
   "outputs": [
    {
     "data": {
      "text/html": [
       "<div>\n",
       "<style scoped>\n",
       "    .dataframe tbody tr th:only-of-type {\n",
       "        vertical-align: middle;\n",
       "    }\n",
       "\n",
       "    .dataframe tbody tr th {\n",
       "        vertical-align: top;\n",
       "    }\n",
       "\n",
       "    .dataframe thead th {\n",
       "        text-align: right;\n",
       "    }\n",
       "</style>\n",
       "<table border=\"1\" class=\"dataframe\">\n",
       "  <thead>\n",
       "    <tr style=\"text-align: right;\">\n",
       "      <th></th>\n",
       "      <th>$\\tilde ε$</th>\n",
       "      <th>$\\tilde ν$</th>\n",
       "      <th>$ln\\tilde g$</th>\n",
       "    </tr>\n",
       "  </thead>\n",
       "  <tbody>\n",
       "    <tr>\n",
       "      <th>0</th>\n",
       "      <td>-0.103517</td>\n",
       "      <td>0.0</td>\n",
       "      <td>0.017930</td>\n",
       "    </tr>\n",
       "    <tr>\n",
       "      <th>1</th>\n",
       "      <td>1.198315</td>\n",
       "      <td>0.0</td>\n",
       "      <td>0.043966</td>\n",
       "    </tr>\n",
       "    <tr>\n",
       "      <th>2</th>\n",
       "      <td>0.645910</td>\n",
       "      <td>0.0</td>\n",
       "      <td>0.032918</td>\n",
       "    </tr>\n",
       "    <tr>\n",
       "      <th>3</th>\n",
       "      <td>-0.024971</td>\n",
       "      <td>0.0</td>\n",
       "      <td>0.019501</td>\n",
       "    </tr>\n",
       "    <tr>\n",
       "      <th>4</th>\n",
       "      <td>0.781832</td>\n",
       "      <td>0.0</td>\n",
       "      <td>0.035637</td>\n",
       "    </tr>\n",
       "    <tr>\n",
       "      <th>...</th>\n",
       "      <td>...</td>\n",
       "      <td>...</td>\n",
       "      <td>...</td>\n",
       "    </tr>\n",
       "    <tr>\n",
       "      <th>9995</th>\n",
       "      <td>1.599593</td>\n",
       "      <td>0.0</td>\n",
       "      <td>0.051992</td>\n",
       "    </tr>\n",
       "    <tr>\n",
       "      <th>9996</th>\n",
       "      <td>0.910901</td>\n",
       "      <td>0.0</td>\n",
       "      <td>0.038218</td>\n",
       "    </tr>\n",
       "    <tr>\n",
       "      <th>9997</th>\n",
       "      <td>0.109346</td>\n",
       "      <td>0.0</td>\n",
       "      <td>0.022187</td>\n",
       "    </tr>\n",
       "    <tr>\n",
       "      <th>9998</th>\n",
       "      <td>-1.270979</td>\n",
       "      <td>0.0</td>\n",
       "      <td>-0.005420</td>\n",
       "    </tr>\n",
       "    <tr>\n",
       "      <th>9999</th>\n",
       "      <td>0.257086</td>\n",
       "      <td>0.0</td>\n",
       "      <td>0.025142</td>\n",
       "    </tr>\n",
       "  </tbody>\n",
       "</table>\n",
       "<p>10000 rows × 3 columns</p>\n",
       "</div>"
      ],
      "text/plain": [
       "      $\\tilde ε$  $\\tilde ν$  $ln\\tilde g$\n",
       "0      -0.103517         0.0      0.017930\n",
       "1       1.198315         0.0      0.043966\n",
       "2       0.645910         0.0      0.032918\n",
       "3      -0.024971         0.0      0.019501\n",
       "4       0.781832         0.0      0.035637\n",
       "...          ...         ...           ...\n",
       "9995    1.599593         0.0      0.051992\n",
       "9996    0.910901         0.0      0.038218\n",
       "9997    0.109346         0.0      0.022187\n",
       "9998   -1.270979         0.0     -0.005420\n",
       "9999    0.257086         0.0      0.025142\n",
       "\n",
       "[10000 rows x 3 columns]"
      ]
     },
     "execution_count": 4,
     "metadata": {},
     "output_type": "execute_result"
    }
   ],
   "source": [
    "monte_carlo(10000)"
   ]
  },
  {
   "cell_type": "markdown",
   "id": "c708c452",
   "metadata": {},
   "source": [
    "### Stimulate Pricing Kernal for Each γ"
   ]
  },
  {
   "cell_type": "code",
   "execution_count": 5,
   "id": "2554af99",
   "metadata": {
    "scrolled": true
   },
   "outputs": [],
   "source": [
    "gammas = np.arange(1, 4.1, 0.1)\n",
    "standard_deviation = pd.DataFrame(index = ['$σ_{m}/μ_{m}$'])"
   ]
  },
  {
   "cell_type": "code",
   "execution_count": 6,
   "id": "6d927312",
   "metadata": {},
   "outputs": [],
   "source": [
    "def stimulate(times):\n",
    "    standard_deviation = pd.DataFrame(index = ['$σ_{m}/μ_{m}$'])\n",
    "    for gamma in gammas:\n",
    "        COL = round(gamma, 1)\n",
    "        pricing_kernal = 0.99 * np.exp(monte_carlo(times)['$ln\\tilde g$'])**(-gamma)\n",
    "        mean = pricing_kernal.mean()\n",
    "        std = pricing_kernal.std()\n",
    "        standard_deviation[COL] = std/mean\n",
    "    return standard_deviation.T"
   ]
  },
  {
   "cell_type": "code",
   "execution_count": 7,
   "id": "efcd7364",
   "metadata": {
    "scrolled": false
   },
   "outputs": [
    {
     "data": {
      "text/html": [
       "<div>\n",
       "<style scoped>\n",
       "    .dataframe tbody tr th:only-of-type {\n",
       "        vertical-align: middle;\n",
       "    }\n",
       "\n",
       "    .dataframe tbody tr th {\n",
       "        vertical-align: top;\n",
       "    }\n",
       "\n",
       "    .dataframe thead th {\n",
       "        text-align: right;\n",
       "    }\n",
       "</style>\n",
       "<table border=\"1\" class=\"dataframe\">\n",
       "  <thead>\n",
       "    <tr style=\"text-align: right;\">\n",
       "      <th></th>\n",
       "      <th>$σ_{m}/μ_{m}$</th>\n",
       "    </tr>\n",
       "  </thead>\n",
       "  <tbody>\n",
       "    <tr>\n",
       "      <th>1.0</th>\n",
       "      <td>0.069671</td>\n",
       "    </tr>\n",
       "    <tr>\n",
       "      <th>1.1</th>\n",
       "      <td>0.078180</td>\n",
       "    </tr>\n",
       "    <tr>\n",
       "      <th>1.2</th>\n",
       "      <td>0.087017</td>\n",
       "    </tr>\n",
       "    <tr>\n",
       "      <th>1.3</th>\n",
       "      <td>0.096410</td>\n",
       "    </tr>\n",
       "    <tr>\n",
       "      <th>1.4</th>\n",
       "      <td>0.105966</td>\n",
       "    </tr>\n",
       "  </tbody>\n",
       "</table>\n",
       "</div>"
      ],
      "text/plain": [
       "     $σ_{m}/μ_{m}$\n",
       "1.0       0.069671\n",
       "1.1       0.078180\n",
       "1.2       0.087017\n",
       "1.3       0.096410\n",
       "1.4       0.105966"
      ]
     },
     "execution_count": 7,
     "metadata": {},
     "output_type": "execute_result"
    }
   ],
   "source": [
    "standard_deviation = stimulate(10)\n",
    "standard_deviation.head()"
   ]
  },
  {
   "cell_type": "code",
   "execution_count": 8,
   "id": "7add79c0",
   "metadata": {
    "scrolled": true
   },
   "outputs": [
    {
     "data": {
      "text/plain": [
       "σm/μm    0.404305\n",
       "Name: 3.4, dtype: float64"
      ]
     },
     "execution_count": 8,
     "metadata": {},
     "output_type": "execute_result"
    }
   ],
   "source": [
    "smallest_γ = standard_deviation[standard_deviation > 0.4].dropna().iloc[0,:].rename(index = {'$σ_{m}/μ_{m}$': 'σm/μm'})\n",
    "smallest_γ"
   ]
  },
  {
   "cell_type": "markdown",
   "id": "0e548653",
   "metadata": {},
   "source": [
    "### Visualization "
   ]
  },
  {
   "cell_type": "code",
   "execution_count": 9,
   "id": "66a7ec1e",
   "metadata": {
    "scrolled": false
   },
   "outputs": [
    {
     "data": {
      "image/png": "[encoded data removed]",
      "text/plain": [
       "<Figure size 864x720 with 1 Axes>"
      ]
     },
     "metadata": {
      "needs_background": "light"
     },
     "output_type": "display_data"
    }
   ],
   "source": [
    "from matplotlib.pyplot import MultipleLocator\n",
    "plt.figure(figsize = (12, 10))\n",
    "plt.plot(standard_deviation)\n",
    "plt.plot(smallest_γ.name, smallest_γ[0], color = 'r', marker = '^', markersize = 13)\n",
    "#plt.axhline(y = 0.4, color = 'r', linestyle = '--')\n",
    "plt.xlabel('$γ$', fontsize = 15)\n",
    "plt.ylabel('$𝜎𝑚/𝜇𝑚$', fontsize = 18, position = (-10, 0.5), rotation = 0)\n",
    "plt.yticks(rotation = 360)\n",
    "x_major_locator=MultipleLocator(0.2)\n",
    "y_major_locator=MultipleLocator(0.05)\n",
    "ax = plt.gca()\n",
    "ax.xaxis.set_major_locator(x_major_locator)\n",
    "ax.yaxis.set_major_locator(y_major_locator)\n",
    "plt.xlim(1, 4)\n",
    "plt.ylim(0, 0.6)\n",
    "plt.title('Hansen-Jagannathan Bound', fontsize = 15)\n",
    "plt.grid()\n",
    "plt.show()"
   ]
  },
  {
   "cell_type": "markdown",
   "id": "9c8a1ced",
   "metadata": {},
   "source": [
    "### Economic Significance\n",
    "- US stock market has Sharpe ratio of 0.4, which can be used to derive lower bound on (constant) coefficient of relative risk aversion for investor with power utility (of consumption). By applying the CRRA utility function, assuming the consumption growth follows lognormal distribution, and taking the effect of rare disasters into account, Hansen-Jagannathan bound is satisfied for **`γ = 3.4`**, which is reasonably small for low level of relative risk aversion. For γ = 3.4, **`σ𝑚/μ𝑚 ≈ 0.41`**, which is approximately consistent with the Sharp ratio of the U.S stock market.\n",
    "\n",
    "\n",
    "- For γ >= 3.4, the standard deviation of the pricing kernel must exceed the Sharp ratio of any asset of the portfolios that can be traded in the financial market. In other words, it must exceed the Sharp ratio of the portfolio with the highest Sharp ratio.\n",
    "\n",
    "\n",
    "- Distribution of consumption growth becomes highly skewed (to the left) when rare disasters are included.\n",
    "\n",
    "\n",
    "- The volatility of the pricing kernal should be greater than Hansen-Jagannathan bound, which is the absolute value of Sharp ratio of any asset of the portfolio and represents the lower bound of the volatility of the pricing kernal. \n",
    "\n",
    "\n",
    "- H–J bound is satisfied for reasonably low level of relative risk aversion, so no equity premium puzzle. "
   ]
  }
 ],
 "metadata": {
  "kernelspec": {
   "display_name": "Python 3",
   "language": "python",
   "name": "python3"
  },
  "language_info": {
   "codemirror_mode": {
    "name": "ipython",
    "version": 3
   },
   "file_extension": ".py",
   "mimetype": "text/x-python",
   "name": "python",
   "nbconvert_exporter": "python",
   "pygments_lexer": "ipython3",
   "version": "3.8.8"
  }
 },
 "nbformat": 4,
 "nbformat_minor": 5
}
