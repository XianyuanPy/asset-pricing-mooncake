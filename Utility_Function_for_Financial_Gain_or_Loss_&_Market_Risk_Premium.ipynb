{
 "cells": [
  {
   "cell_type": "markdown",
   "id": "9cf44430",
   "metadata": {},
   "source": [
    "# Behavioural Finance (Utility function for financial gain or loss & Market Risk Premium)"
   ]
  },
  {
   "cell_type": "code",
   "execution_count": 1,
   "id": "470d305a",
   "metadata": {},
   "outputs": [],
   "source": [
    "import numpy as np\n",
    "import pandas as pd\n",
    "import matplotlib.pyplot as plt\n",
    "%matplotlib inline"
   ]
  },
  {
   "cell_type": "markdown",
   "id": "8a039901",
   "metadata": {},
   "source": [
    "### Simulation"
   ]
  },
  {
   "cell_type": "code",
   "execution_count": 2,
   "id": "98475762",
   "metadata": {
    "scrolled": false
   },
   "outputs": [],
   "source": [
    "epsilon = np.random.randn(10000)\n",
    "simulation = pd.DataFrame(epsilon, columns = ['ε'])\n",
    "simulation['g'] = np.exp(0.02 + 0.02 * simulation['ε'])"
   ]
  },
  {
   "cell_type": "markdown",
   "id": "c681fd20",
   "metadata": {},
   "source": [
    "### Bisection Searching"
   ]
  },
  {
   "cell_type": "code",
   "execution_count": 3,
   "id": "136615cb",
   "metadata": {},
   "outputs": [],
   "source": [
    "def error(x1, x2, b):\n",
    "    x = 0.5 * (x1 + x2)\n",
    "    utility = []\n",
    "    for g in simulation['g']:\n",
    "        r = x * g\n",
    "        if r >= 1.0303:\n",
    "            utility.append(r - 1.0303)\n",
    "        else:\n",
    "            utility.append(2 * (r- 1.0303))\n",
    "    expected_utility = np.mean(utility)\n",
    "    e = 0.99 * b * expected_utility + 0.99 * x - 1\n",
    "    return e"
   ]
  },
  {
   "cell_type": "code",
   "execution_count": 4,
   "id": "65982ca8",
   "metadata": {},
   "outputs": [],
   "source": [
    "def bisection(x1, x2, b):\n",
    "    e = error(x1, x2, b)\n",
    "    x = 0.5 * (x1 + x2)\n",
    "    while np.abs(e) >= 1e-5:\n",
    "        if e < 0:\n",
    "            x1 = x\n",
    "        else:\n",
    "            x2 = x\n",
    "        e = error(x1, x2, b)\n",
    "        x = 0.5 * (x1 + x2)\n",
    "        if np.abs(e) < 1e-5:\n",
    "            break\n",
    "    return x"
   ]
  },
  {
   "cell_type": "code",
   "execution_count": 5,
   "id": "d9d70188",
   "metadata": {
    "scrolled": true
   },
   "outputs": [],
   "source": [
    "b0 = np.arange(0, 10.1, 0.1)\n",
    "equilibrium_x = []\n",
    "for b in b0:\n",
    "    equilibrium_x.append(bisection(1, 1.1, b))\n",
    "equilibrium = pd.DataFrame([b0, equilibrium_x], index = ['b0', 'x']).T"
   ]
  },
  {
   "cell_type": "code",
   "execution_count": 6,
   "id": "f61360de",
   "metadata": {},
   "outputs": [],
   "source": [
    "price_dividend_ratio = []\n",
    "for x in equilibrium_x:\n",
    "    price_dividend_ratio.append(1/(x - 1))\n",
    "\n",
    "equilibrium['P/D'] = price_dividend_ratio"
   ]
  },
  {
   "cell_type": "code",
   "execution_count": 7,
   "id": "6ff4b5de",
   "metadata": {
    "scrolled": true
   },
   "outputs": [
    {
     "data": {
      "text/html": [
       "<div>\n",
       "<style scoped>\n",
       "    .dataframe tbody tr th:only-of-type {\n",
       "        vertical-align: middle;\n",
       "    }\n",
       "\n",
       "    .dataframe tbody tr th {\n",
       "        vertical-align: top;\n",
       "    }\n",
       "\n",
       "    .dataframe thead th {\n",
       "        text-align: right;\n",
       "    }\n",
       "</style>\n",
       "<table border=\"1\" class=\"dataframe\">\n",
       "  <thead>\n",
       "    <tr style=\"text-align: right;\">\n",
       "      <th></th>\n",
       "      <th>b0</th>\n",
       "      <th>x</th>\n",
       "      <th>P/D</th>\n",
       "      <th>expected_rm</th>\n",
       "      <th>Equity Premium</th>\n",
       "    </tr>\n",
       "  </thead>\n",
       "  <tbody>\n",
       "    <tr>\n",
       "      <th>0</th>\n",
       "      <td>0.0</td>\n",
       "      <td>1.010107</td>\n",
       "      <td>98.937198</td>\n",
       "      <td>1.030768</td>\n",
       "      <td>0.046755</td>\n",
       "    </tr>\n",
       "    <tr>\n",
       "      <th>1</th>\n",
       "      <td>0.1</td>\n",
       "      <td>1.010754</td>\n",
       "      <td>92.985244</td>\n",
       "      <td>1.031428</td>\n",
       "      <td>0.112776</td>\n",
       "    </tr>\n",
       "    <tr>\n",
       "      <th>2</th>\n",
       "      <td>0.2</td>\n",
       "      <td>1.011255</td>\n",
       "      <td>88.850325</td>\n",
       "      <td>1.031938</td>\n",
       "      <td>0.163848</td>\n",
       "    </tr>\n",
       "    <tr>\n",
       "      <th>3</th>\n",
       "      <td>0.3</td>\n",
       "      <td>1.011646</td>\n",
       "      <td>85.870021</td>\n",
       "      <td>1.032337</td>\n",
       "      <td>0.203710</td>\n",
       "    </tr>\n",
       "    <tr>\n",
       "      <th>4</th>\n",
       "      <td>0.4</td>\n",
       "      <td>1.011975</td>\n",
       "      <td>83.506626</td>\n",
       "      <td>1.032673</td>\n",
       "      <td>0.237343</td>\n",
       "    </tr>\n",
       "  </tbody>\n",
       "</table>\n",
       "</div>"
      ],
      "text/plain": [
       "    b0         x        P/D  expected_rm  Equity Premium\n",
       "0  0.0  1.010107  98.937198     1.030768        0.046755\n",
       "1  0.1  1.010754  92.985244     1.031428        0.112776\n",
       "2  0.2  1.011255  88.850325     1.031938        0.163848\n",
       "3  0.3  1.011646  85.870021     1.032337        0.203710\n",
       "4  0.4  1.011975  83.506626     1.032673        0.237343"
      ]
     },
     "execution_count": 7,
     "metadata": {},
     "output_type": "execute_result"
    }
   ],
   "source": [
    "Rf = 1.0303\n",
    "expected_rm = []\n",
    "for x in equilibrium_x:\n",
    "    xg = []\n",
    "    for g in simulation['g']:\n",
    "        xg.append(x * g)\n",
    "    expected_rm.append(np.mean(xg))\n",
    "equilibrium['expected_rm'] = expected_rm\n",
    "equilibrium['Equity Premium'] = (equilibrium['expected_rm'] - Rf) * 100\n",
    "equilibrium.head()"
   ]
  },
  {
   "cell_type": "markdown",
   "id": "ca1f6d51",
   "metadata": {},
   "source": [
    "### Visualization"
   ]
  },
  {
   "cell_type": "code",
   "execution_count": 8,
   "id": "c52dd7d8",
   "metadata": {},
   "outputs": [
    {
     "data": {
      "image/png": "[encoded data removed]",
      "text/plain": [
       "<Figure size 1152x504 with 2 Axes>"
      ]
     },
     "metadata": {
      "needs_background": "light"
     },
     "output_type": "display_data"
    }
   ],
   "source": [
    "fig = plt.figure(figsize = (16, 7))\n",
    "ax = fig.add_subplot(121)\n",
    "plt.plot(equilibrium['b0'], equilibrium['P/D'])\n",
    "plt.xlim(0, 10)\n",
    "plt.ylim(65, 100)\n",
    "plt.xlabel('b0')\n",
    "plt.title('P/D')\n",
    "plt.grid()\n",
    "\n",
    "ax = fig.add_subplot(122)\n",
    "plt.plot(equilibrium['b0'], equilibrium['Equity Premium'])\n",
    "plt.xlim(0, 10)\n",
    "plt.ylim(0, 0.6)\n",
    "plt.xlabel('b0')\n",
    "plt.ylabel('%')\n",
    "plt.title('Market Risk Premium')\n",
    "plt.grid()\n",
    "plt.show()"
   ]
  },
  {
   "cell_type": "markdown",
   "id": "35d1c2f7",
   "metadata": {},
   "source": [
    "> **Economic Significance**\n",
    "\n",
    "- **Utility function for financial gain or loss**\n",
    "<br>The piece-wise linear utility function measures investors' utility from financial gain or loss. Based on prospect theory, investors exhibit loss aversion for they are more sensitive to losses than gains, which are measured relative to reference level. So the utility function is more steeper when losses below the reference level than when gains above the reference level.\n",
    "<br>\n",
    "\n",
    "- **b0**\n",
    "<br>b0 is a constant greater than or equal to 0, and it's part of the scale factor in investors' utility function, which consists of utility of consumption and utility of financial gain or loss. b0 determines amount of emphasis investor puts on utility from financial gain or loss, vs utility of consumption. If b0 = 0, investors' utility is only from individual consumption. If b0 becomes infinitely, investors' utility is almost determined by financial gain or loss.\n",
    "<br>\n",
    "\n",
    "- **λ**\n",
    "<br>λ measures the investor sensitivity level to shortfall in financial gain, so λ > 1, making the utility function of financial gain or loss more steeper below the reference level. The bigger the λ, the more loss averse the investor is."
   ]
  }
 ],
 "metadata": {
  "kernelspec": {
   "display_name": "Python 3",
   "language": "python",
   "name": "python3"
  },
  "language_info": {
   "codemirror_mode": {
    "name": "ipython",
    "version": 3
   },
   "file_extension": ".py",
   "mimetype": "text/x-python",
   "name": "python",
   "nbconvert_exporter": "python",
   "pygments_lexer": "ipython3",
   "version": "3.8.8"
  }
 },
 "nbformat": 4,
 "nbformat_minor": 5
}
