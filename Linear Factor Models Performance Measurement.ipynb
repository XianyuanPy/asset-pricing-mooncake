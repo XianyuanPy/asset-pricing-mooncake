{
 "cells": [
  {
   "cell_type": "markdown",
   "id": "207872d2",
   "metadata": {},
   "source": [
    "# Linear Factor Models Performance Measurement"
   ]
  },
  {
   "cell_type": "code",
   "execution_count": 1,
   "id": "56c71a1c",
   "metadata": {},
   "outputs": [],
   "source": [
    "import numpy as np\n",
    "import pandas as pd\n",
    "import matplotlib.pyplot as plt\n",
    "import statsmodels.api as sm\n",
    "%matplotlib inline"
   ]
  },
  {
   "cell_type": "code",
   "execution_count": 2,
   "id": "30ec6c58",
   "metadata": {},
   "outputs": [],
   "source": [
    "import warnings\n",
    "warnings.filterwarnings(action = 'ignore')"
   ]
  },
  {
   "cell_type": "code",
   "execution_count": 3,
   "id": "1b9f4bbb",
   "metadata": {},
   "outputs": [],
   "source": [
    "industry_portfolios = pd.read_excel('Industry_Portfolios.xlsx')\n",
    "market_portfolio = pd.read_excel('Market_Portfolio.xlsx')\n",
    "risk_factors = pd.read_excel('Risk_Factors.xlsx')"
   ]
  },
  {
   "cell_type": "code",
   "execution_count": 4,
   "id": "6d37c6da",
   "metadata": {
    "scrolled": true
   },
   "outputs": [
    {
     "data": {
      "text/html": [
       "<div>\n",
       "<style scoped>\n",
       "    .dataframe tbody tr th:only-of-type {\n",
       "        vertical-align: middle;\n",
       "    }\n",
       "\n",
       "    .dataframe tbody tr th {\n",
       "        vertical-align: top;\n",
       "    }\n",
       "\n",
       "    .dataframe thead th {\n",
       "        text-align: right;\n",
       "    }\n",
       "</style>\n",
       "<table border=\"1\" class=\"dataframe\">\n",
       "  <thead>\n",
       "    <tr style=\"text-align: right;\">\n",
       "      <th></th>\n",
       "      <th>Date</th>\n",
       "      <th>Rf</th>\n",
       "      <th>Rm-Rf</th>\n",
       "      <th>SMB</th>\n",
       "      <th>HML</th>\n",
       "    </tr>\n",
       "  </thead>\n",
       "  <tbody>\n",
       "    <tr>\n",
       "      <th>0</th>\n",
       "      <td>200401</td>\n",
       "      <td>0.07</td>\n",
       "      <td>2.15</td>\n",
       "      <td>2.67</td>\n",
       "      <td>1.55</td>\n",
       "    </tr>\n",
       "    <tr>\n",
       "      <th>1</th>\n",
       "      <td>200402</td>\n",
       "      <td>0.06</td>\n",
       "      <td>1.40</td>\n",
       "      <td>-1.17</td>\n",
       "      <td>0.45</td>\n",
       "    </tr>\n",
       "  </tbody>\n",
       "</table>\n",
       "</div>"
      ],
      "text/plain": [
       "     Date    Rf  Rm-Rf   SMB   HML\n",
       "0  200401  0.07   2.15  2.67  1.55\n",
       "1  200402  0.06   1.40 -1.17  0.45"
      ]
     },
     "execution_count": 4,
     "metadata": {},
     "output_type": "execute_result"
    }
   ],
   "source": [
    "risk_factors.head(2)"
   ]
  },
  {
   "cell_type": "markdown",
   "id": "7b17fcc2",
   "metadata": {},
   "source": [
    "## Sharp Ratio\n",
    "  <br>   Measure porfolio's risk premium per unit of its standard deviation, and it's appropriate for diversified portfolios with normally distributed returns but not useful for comparing individual investment and diversified portfolio since it include both systematic and idiosyncratic risk. A risk-averse investor is more willing to invest in a portfolio with higher Sharp Ratio."
   ]
  },
  {
   "cell_type": "code",
   "execution_count": 5,
   "id": "a31d7bf0",
   "metadata": {},
   "outputs": [],
   "source": [
    "Si = []\n",
    "\n",
    "for portfolio in industry_portfolios.columns[1:]:\n",
    "    expected_excess_return = np.mean(industry_portfolios[portfolio] - risk_factors['Rf'])\n",
    "    std_dev = np.sqrt(np.var(industry_portfolios[portfolio] - risk_factors.Rf))\n",
    "    Si.append(expected_excess_return/std_dev)\n",
    "    \n",
    "Performance_Metric = pd.DataFrame(Si, index = industry_portfolios.columns[1:], columns = ['Sharp_Ratio'])"
   ]
  },
  {
   "cell_type": "markdown",
   "id": "f64fd1ec",
   "metadata": {},
   "source": [
    "## Sortino Ratio\n",
    "   <br>  Measure expected deviation from target return per unit of below-target semi-deviation (downside risk), and is more infromative than Sharp ratio especially when dealing with asymetric or non-normal distrbution returns. A risk-averse investor will be more interested in in a portfolio with higher Sortino Ratio."
   ]
  },
  {
   "cell_type": "code",
   "execution_count": 6,
   "id": "b8a4fc06",
   "metadata": {},
   "outputs": [],
   "source": [
    "St = []\n",
    "downside_return = industry_portfolios.copy()\n",
    "    \n",
    "for portfolio in industry_portfolios.columns[1:]:\n",
    "    \n",
    "    #Generate a table for downside_return that maintain negative excess return and set positive excess return equals to 0\n",
    "    downside_return[portfolio] = industry_portfolios[portfolio] - risk_factors['Rf']\n",
    "    downside_return[portfolio] = downside_return[portfolio].apply(lambda x: 0 if x > 0 else x)\n",
    "    \n",
    "    #Calculate Sortino Ratio\n",
    "    T = len(industry_portfolios.index)\n",
    "    St.append(np.mean(industry_portfolios[portfolio] - risk_factors['Rf']) \n",
    "                  /np.sqrt((1/T * np.sum(downside_return[portfolio]**2))))\n",
    "\n",
    "Performance_Metric['Sortino_Ratio'] = St"
   ]
  },
  {
   "cell_type": "markdown",
   "id": "18028594",
   "metadata": {},
   "source": [
    "## Treynor Ratio\n",
    "  <br>   Measure risk premium per unit market risk. it's useful to compare performance of individual investment to diversified portfolio, because it ignores idiosyncratic risk and includes only systematic risk. A risk-averse investor is more willing to invest in a portfolio with higher Treynor Ratio."
   ]
  },
  {
   "cell_type": "code",
   "execution_count": 7,
   "id": "fa1606aa",
   "metadata": {},
   "outputs": [],
   "source": [
    "beta = []\n",
    "\n",
    "# Function for regression and return slope coefficient\n",
    "def linear_regression(independent_variable):\n",
    "    x = sm.add_constant(risk_factors['Rm-Rf'])\n",
    "    MODEL = sm.OLS(industry_portfolios[independent_variable] - risk_factors['Rf'], x).fit()\n",
    "    beta.append(MODEL.params[1])\n",
    "    return beta\n",
    "\n",
    "#Run OLS regression and generate a list of beta\n",
    "for portfolio in industry_portfolios.columns[1:]:\n",
    "    linear_regression(portfolio)\n",
    "    \n",
    "beta = pd.DataFrame(beta, index = industry_portfolios.columns[1:], columns = ['beta']).T\n",
    "\n",
    "#Calculate Treynor Ratio\n",
    "Treynor_Ratio = []\n",
    "for portfolio in industry_portfolios.columns[1:]:\n",
    "    expected_excess_return = np.mean(industry_portfolios[portfolio] - risk_factors['Rf'])\n",
    "    Treynor_Ratio.append(expected_excess_return / beta[portfolio][0])\n",
    "\n",
    "Performance_Metric['Treynor Ratio'] = Treynor_Ratio"
   ]
  },
  {
   "cell_type": "markdown",
   "id": "b49ea001",
   "metadata": {},
   "source": [
    "## Jensen's Alpha\n",
    "   <br>  It's the intercept coefficient derived from regression of CAPM. It can be interpreted as pricing error for passive portfolio while as abnormal mean return for exposure to market risk for active portfolio. A passive portfolio manager is seeking zero Jenen's Alpha, while an active portfolio manager is trying to get a Jenen's Alpha above zero, which means outperforming the market."
   ]
  },
  {
   "cell_type": "code",
   "execution_count": 8,
   "id": "ba281c0c",
   "metadata": {},
   "outputs": [],
   "source": [
    "alpha = []\n",
    "\n",
    "for portfolio in industry_portfolios.columns[1:]:\n",
    "    expected_excess_return = np.mean(industry_portfolios[portfolio] - risk_factors['Rf'])\n",
    "    market_expected_excess_return = np.mean(risk_factors['Rm-Rf'])\n",
    "    alpha.append(expected_excess_return - beta[portfolio][0]*market_expected_excess_return)\n",
    "\n",
    "Performance_Metric['Jensen\\'s Alpha'] = alpha"
   ]
  },
  {
   "cell_type": "markdown",
   "id": "ed1a4b51",
   "metadata": {},
   "source": [
    "## Three-Factor Alpha\n",
    "   <br>  It's the intercept coefficient derived from regression of Fama-French three-factor model, interpreted as pricing error that cannot explained by the model and expected to be zero."
   ]
  },
  {
   "cell_type": "code",
   "execution_count": 9,
   "id": "4772c7b4",
   "metadata": {
    "scrolled": true
   },
   "outputs": [],
   "source": [
    "three_factor_alpha = []\n",
    "\n",
    "# Function for regression and return slope coefficient\n",
    "def linear_regression(independent_variable):\n",
    "    x = sm.add_constant(risk_factors[['Rm-Rf', 'SMB', 'HML']])\n",
    "    MODEL = sm.OLS(industry_portfolios[independent_variable] - risk_factors['Rf'], x).fit()\n",
    "    three_factor_alpha.append(MODEL.params[0])\n",
    "    return three_factor_alpha\n",
    "\n",
    "#Run OLS regression and generate a list of beta\n",
    "for portfolio in industry_portfolios.columns[1:]:\n",
    "    linear_regression(portfolio)\n",
    "    \n",
    "Performance_Metric['Three-Factor Alpha'] = three_factor_alpha"
   ]
  },
  {
   "cell_type": "markdown",
   "id": "d05000dc",
   "metadata": {},
   "source": [
    "## Performance Metric"
   ]
  },
  {
   "cell_type": "code",
   "execution_count": 10,
   "id": "bfe7f28f",
   "metadata": {
    "scrolled": false
   },
   "outputs": [
    {
     "data": {
      "text/html": [
       "<div>\n",
       "<style scoped>\n",
       "    .dataframe tbody tr th:only-of-type {\n",
       "        vertical-align: middle;\n",
       "    }\n",
       "\n",
       "    .dataframe tbody tr th {\n",
       "        vertical-align: top;\n",
       "    }\n",
       "\n",
       "    .dataframe thead th {\n",
       "        text-align: right;\n",
       "    }\n",
       "</style>\n",
       "<table border=\"1\" class=\"dataframe\">\n",
       "  <thead>\n",
       "    <tr style=\"text-align: right;\">\n",
       "      <th></th>\n",
       "      <th>Sharp_Ratio</th>\n",
       "      <th>Sortino_Ratio</th>\n",
       "      <th>Treynor Ratio</th>\n",
       "      <th>Jensen's Alpha</th>\n",
       "      <th>Three-Factor Alpha</th>\n",
       "    </tr>\n",
       "  </thead>\n",
       "  <tbody>\n",
       "    <tr>\n",
       "      <th>NoDur</th>\n",
       "      <td>0.232068</td>\n",
       "      <td>0.350804</td>\n",
       "      <td>1.186372</td>\n",
       "      <td>0.369717</td>\n",
       "      <td>0.386704</td>\n",
       "    </tr>\n",
       "    <tr>\n",
       "      <th>Durbl</th>\n",
       "      <td>0.072659</td>\n",
       "      <td>0.111967</td>\n",
       "      <td>0.367463</td>\n",
       "      <td>-0.417903</td>\n",
       "      <td>-0.474342</td>\n",
       "    </tr>\n",
       "    <tr>\n",
       "      <th>Manuf</th>\n",
       "      <td>0.167315</td>\n",
       "      <td>0.241260</td>\n",
       "      <td>0.758251</td>\n",
       "      <td>0.160494</td>\n",
       "      <td>0.153285</td>\n",
       "    </tr>\n",
       "    <tr>\n",
       "      <th>Enrgy</th>\n",
       "      <td>0.182470</td>\n",
       "      <td>0.273612</td>\n",
       "      <td>1.143330</td>\n",
       "      <td>0.504485</td>\n",
       "      <td>0.523007</td>\n",
       "    </tr>\n",
       "    <tr>\n",
       "      <th>HiTec</th>\n",
       "      <td>0.119050</td>\n",
       "      <td>0.170620</td>\n",
       "      <td>0.564295</td>\n",
       "      <td>-0.064024</td>\n",
       "      <td>-0.065979</td>\n",
       "    </tr>\n",
       "    <tr>\n",
       "      <th>Telcm</th>\n",
       "      <td>0.169773</td>\n",
       "      <td>0.244940</td>\n",
       "      <td>0.836363</td>\n",
       "      <td>0.194348</td>\n",
       "      <td>0.200724</td>\n",
       "    </tr>\n",
       "    <tr>\n",
       "      <th>Shops</th>\n",
       "      <td>0.192557</td>\n",
       "      <td>0.293032</td>\n",
       "      <td>0.951258</td>\n",
       "      <td>0.274093</td>\n",
       "      <td>0.255941</td>\n",
       "    </tr>\n",
       "    <tr>\n",
       "      <th>Hlth</th>\n",
       "      <td>0.173253</td>\n",
       "      <td>0.270294</td>\n",
       "      <td>0.971435</td>\n",
       "      <td>0.236968</td>\n",
       "      <td>0.257472</td>\n",
       "    </tr>\n",
       "    <tr>\n",
       "      <th>Utils</th>\n",
       "      <td>0.211832</td>\n",
       "      <td>0.290044</td>\n",
       "      <td>1.452334</td>\n",
       "      <td>0.446523</td>\n",
       "      <td>0.474411</td>\n",
       "    </tr>\n",
       "    <tr>\n",
       "      <th>Other</th>\n",
       "      <td>0.064964</td>\n",
       "      <td>0.087351</td>\n",
       "      <td>0.299781</td>\n",
       "      <td>-0.387508</td>\n",
       "      <td>-0.404412</td>\n",
       "    </tr>\n",
       "  </tbody>\n",
       "</table>\n",
       "</div>"
      ],
      "text/plain": [
       "       Sharp_Ratio  Sortino_Ratio  Treynor Ratio  Jensen's Alpha  \\\n",
       "NoDur     0.232068       0.350804       1.186372        0.369717   \n",
       "Durbl     0.072659       0.111967       0.367463       -0.417903   \n",
       "Manuf     0.167315       0.241260       0.758251        0.160494   \n",
       "Enrgy     0.182470       0.273612       1.143330        0.504485   \n",
       "HiTec     0.119050       0.170620       0.564295       -0.064024   \n",
       "Telcm     0.169773       0.244940       0.836363        0.194348   \n",
       "Shops     0.192557       0.293032       0.951258        0.274093   \n",
       "Hlth      0.173253       0.270294       0.971435        0.236968   \n",
       "Utils     0.211832       0.290044       1.452334        0.446523   \n",
       "Other     0.064964       0.087351       0.299781       -0.387508   \n",
       "\n",
       "       Three-Factor Alpha  \n",
       "NoDur            0.386704  \n",
       "Durbl           -0.474342  \n",
       "Manuf            0.153285  \n",
       "Enrgy            0.523007  \n",
       "HiTec           -0.065979  \n",
       "Telcm            0.200724  \n",
       "Shops            0.255941  \n",
       "Hlth             0.257472  \n",
       "Utils            0.474411  \n",
       "Other           -0.404412  "
      ]
     },
     "execution_count": 10,
     "metadata": {},
     "output_type": "execute_result"
    }
   ],
   "source": [
    "Performance_Metric"
   ]
  },
  {
   "cell_type": "markdown",
   "id": "06c5f4b9",
   "metadata": {},
   "source": [
    "## Visualization"
   ]
  },
  {
   "cell_type": "code",
   "execution_count": 11,
   "id": "23aa0c1d",
   "metadata": {
    "scrolled": false
   },
   "outputs": [
    {
     "data": {
      "image/png": "[encoded data removed]",
      "text/plain": [
       "<Figure size 1656x936 with 5 Axes>"
      ]
     },
     "metadata": {
      "needs_background": "light"
     },
     "output_type": "display_data"
    }
   ],
   "source": [
    "fig = plt.figure(figsize = (23, 13))\n",
    "for i in range(0, 5):\n",
    "    ax = fig.add_subplot(2,3,int(i+1))\n",
    "    ax.bar(Performance_Metric.index, Performance_Metric.iloc[:, i], \n",
    "              color = ['paleturquoise', 'powderblue', 'lightblue', 'lightskyblue', 'skyblue', \n",
    "                         'deepskyblue',  'darkturquoise', 'dodgerblue', 'cadetblue', 'steelblue'])\n",
    "    plt.title(Performance_Metric.columns[i])\n",
    "plt.show()"
   ]
  }
 ],
 "metadata": {
  "kernelspec": {
   "display_name": "Python 3",
   "language": "python",
   "name": "python3"
  },
  "language_info": {
   "codemirror_mode": {
    "name": "ipython",
    "version": 3
   },
   "file_extension": ".py",
   "mimetype": "text/x-python",
   "name": "python",
   "nbconvert_exporter": "python",
   "pygments_lexer": "ipython3",
   "version": "3.8.8"
  }
 },
 "nbformat": 4,
 "nbformat_minor": 5
}
