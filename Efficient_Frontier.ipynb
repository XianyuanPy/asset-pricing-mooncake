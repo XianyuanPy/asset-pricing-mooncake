{
 "cells": [
  {
   "cell_type": "markdown",
   "id": "7240ae6c",
   "metadata": {},
   "source": [
    "# Efficient Frontier"
   ]
  },
  {
   "cell_type": "code",
   "execution_count": 1,
   "id": "4ed5425a",
   "metadata": {},
   "outputs": [],
   "source": [
    "import numpy as np\n",
    "import pandas as pd\n",
    "import matplotlib.pyplot as plt"
   ]
  },
  {
   "cell_type": "code",
   "execution_count": 2,
   "id": "b0287d73",
   "metadata": {
    "scrolled": true
   },
   "outputs": [
    {
     "name": "stderr",
     "output_type": "stream",
     "text": [
      "/Users/ciel/opt/anaconda3/lib/python3.8/site-packages/openpyxl/worksheet/_reader.py:312: UserWarning: Unknown extension is not supported and will be removed\n",
      "  warn(msg)\n"
     ]
    }
   ],
   "source": [
    "industry_portfolios = pd.read_excel('Industry_Portfolios.xlsx')"
   ]
  },
  {
   "cell_type": "code",
   "execution_count": 3,
   "id": "81343885",
   "metadata": {
    "scrolled": true
   },
   "outputs": [
    {
     "data": {
      "text/html": [
       "<div>\n",
       "<style scoped>\n",
       "    .dataframe tbody tr th:only-of-type {\n",
       "        vertical-align: middle;\n",
       "    }\n",
       "\n",
       "    .dataframe tbody tr th {\n",
       "        vertical-align: top;\n",
       "    }\n",
       "\n",
       "    .dataframe thead th {\n",
       "        text-align: right;\n",
       "    }\n",
       "</style>\n",
       "<table border=\"1\" class=\"dataframe\">\n",
       "  <thead>\n",
       "    <tr style=\"text-align: right;\">\n",
       "      <th></th>\n",
       "      <th>Date</th>\n",
       "      <th>NoDur</th>\n",
       "      <th>Durbl</th>\n",
       "      <th>Manuf</th>\n",
       "      <th>Enrgy</th>\n",
       "      <th>HiTec</th>\n",
       "      <th>Telcm</th>\n",
       "      <th>Shops</th>\n",
       "      <th>Hlth</th>\n",
       "      <th>Utils</th>\n",
       "      <th>Other</th>\n",
       "    </tr>\n",
       "  </thead>\n",
       "  <tbody>\n",
       "    <tr>\n",
       "      <th>4</th>\n",
       "      <td>200405</td>\n",
       "      <td>-1.89</td>\n",
       "      <td>-1.64</td>\n",
       "      <td>1.61</td>\n",
       "      <td>0.39</td>\n",
       "      <td>4.85</td>\n",
       "      <td>-2.95</td>\n",
       "      <td>0.3</td>\n",
       "      <td>-0.42</td>\n",
       "      <td>1.28</td>\n",
       "      <td>1.86</td>\n",
       "    </tr>\n",
       "  </tbody>\n",
       "</table>\n",
       "</div>"
      ],
      "text/plain": [
       "     Date  NoDur  Durbl  Manuf  Enrgy  HiTec  Telcm  Shops  Hlth  Utils  Other\n",
       "4  200405  -1.89  -1.64   1.61   0.39   4.85  -2.95    0.3 -0.42   1.28   1.86"
      ]
     },
     "execution_count": 3,
     "metadata": {},
     "output_type": "execute_result"
    }
   ],
   "source": [
    "industry_portfolios.sample()"
   ]
  },
  {
   "cell_type": "markdown",
   "id": "f94a83c0",
   "metadata": {},
   "source": [
    "## I Efficient Friontier (Risky Asset Only)"
   ]
  },
  {
   "cell_type": "markdown",
   "id": "4d1965ac",
   "metadata": {},
   "source": [
    "$$\\sigma_p^2 =\\frac{1}{\\delta}+\\frac{\\delta}{\\zeta\\delta-\\alpha^2}(R_p - R_{mv})^2$$\n",
    "$$R_p = R_{mv} \\pm (\\zeta-\\frac{\\alpha^2}{\\delta})^\\frac{1}{2}\\sigma_p$$\n",
    "*Where*\n",
    "$$\\alpha = R'V^{-1}e$$\n",
    "$$\\zeta = R'V^{-1}R$$\n",
    "$$\\delta = e'V^{-1}e$$\n",
    "$$R_{mv} = \\frac{\\alpha}{\\delta}$$"
   ]
  },
  {
   "cell_type": "markdown",
   "id": "f052bf5a",
   "metadata": {},
   "source": [
    ">**Estimate Mean Return and Covariance of Returns**"
   ]
  },
  {
   "cell_type": "code",
   "execution_count": 4,
   "id": "e5450771",
   "metadata": {},
   "outputs": [
    {
     "data": {
      "text/html": [
       "<div>\n",
       "<style scoped>\n",
       "    .dataframe tbody tr th:only-of-type {\n",
       "        vertical-align: middle;\n",
       "    }\n",
       "\n",
       "    .dataframe tbody tr th {\n",
       "        vertical-align: top;\n",
       "    }\n",
       "\n",
       "    .dataframe thead th {\n",
       "        text-align: right;\n",
       "    }\n",
       "</style>\n",
       "<table border=\"1\" class=\"dataframe\">\n",
       "  <thead>\n",
       "    <tr style=\"text-align: right;\">\n",
       "      <th></th>\n",
       "      <th>Mean Return</th>\n",
       "    </tr>\n",
       "  </thead>\n",
       "  <tbody>\n",
       "    <tr>\n",
       "      <th>NoDur</th>\n",
       "      <td>0.902833</td>\n",
       "    </tr>\n",
       "    <tr>\n",
       "      <th>Durbl</th>\n",
       "      <td>0.733333</td>\n",
       "    </tr>\n",
       "    <tr>\n",
       "      <th>Manuf</th>\n",
       "      <td>1.012833</td>\n",
       "    </tr>\n",
       "    <tr>\n",
       "      <th>Enrgy</th>\n",
       "      <td>1.231167</td>\n",
       "    </tr>\n",
       "    <tr>\n",
       "      <th>HiTec</th>\n",
       "      <td>0.766250</td>\n",
       "    </tr>\n",
       "    <tr>\n",
       "      <th>Telcm</th>\n",
       "      <td>0.881417</td>\n",
       "    </tr>\n",
       "    <tr>\n",
       "      <th>Shops</th>\n",
       "      <td>0.916333</td>\n",
       "    </tr>\n",
       "    <tr>\n",
       "      <th>Hlth</th>\n",
       "      <td>0.783833</td>\n",
       "    </tr>\n",
       "    <tr>\n",
       "      <th>Utils</th>\n",
       "      <td>0.907167</td>\n",
       "    </tr>\n",
       "    <tr>\n",
       "      <th>Other</th>\n",
       "      <td>0.489083</td>\n",
       "    </tr>\n",
       "  </tbody>\n",
       "</table>\n",
       "</div>"
      ],
      "text/plain": [
       "       Mean Return\n",
       "NoDur     0.902833\n",
       "Durbl     0.733333\n",
       "Manuf     1.012833\n",
       "Enrgy     1.231167\n",
       "HiTec     0.766250\n",
       "Telcm     0.881417\n",
       "Shops     0.916333\n",
       "Hlth      0.783833\n",
       "Utils     0.907167\n",
       "Other     0.489083"
      ]
     },
     "execution_count": 4,
     "metadata": {},
     "output_type": "execute_result"
    }
   ],
   "source": [
    "R = pd.DataFrame(industry_portfolios.iloc[ :, 1 : 11].mean(), columns = ['Mean Return'])\n",
    "R"
   ]
  },
  {
   "cell_type": "code",
   "execution_count": 5,
   "id": "6196136b",
   "metadata": {
    "scrolled": true
   },
   "outputs": [
    {
     "data": {
      "text/html": [
       "<div>\n",
       "<style scoped>\n",
       "    .dataframe tbody tr th:only-of-type {\n",
       "        vertical-align: middle;\n",
       "    }\n",
       "\n",
       "    .dataframe tbody tr th {\n",
       "        vertical-align: top;\n",
       "    }\n",
       "\n",
       "    .dataframe thead th {\n",
       "        text-align: right;\n",
       "    }\n",
       "</style>\n",
       "<table border=\"1\" class=\"dataframe\">\n",
       "  <thead>\n",
       "    <tr style=\"text-align: right;\">\n",
       "      <th></th>\n",
       "      <th>NoDur</th>\n",
       "      <th>Durbl</th>\n",
       "      <th>Manuf</th>\n",
       "      <th>Enrgy</th>\n",
       "      <th>HiTec</th>\n",
       "      <th>Telcm</th>\n",
       "      <th>Shops</th>\n",
       "      <th>Hlth</th>\n",
       "      <th>Utils</th>\n",
       "      <th>Other</th>\n",
       "    </tr>\n",
       "  </thead>\n",
       "  <tbody>\n",
       "    <tr>\n",
       "      <th>NoDur</th>\n",
       "      <td>11.193422</td>\n",
       "      <td>18.449666</td>\n",
       "      <td>14.104907</td>\n",
       "      <td>10.531341</td>\n",
       "      <td>12.922949</td>\n",
       "      <td>11.968078</td>\n",
       "      <td>10.170832</td>\n",
       "      <td>9.953112</td>\n",
       "      <td>7.866653</td>\n",
       "      <td>14.438409</td>\n",
       "    </tr>\n",
       "    <tr>\n",
       "      <th>Durbl</th>\n",
       "      <td>18.449666</td>\n",
       "      <td>69.920577</td>\n",
       "      <td>39.178097</td>\n",
       "      <td>27.019794</td>\n",
       "      <td>35.466652</td>\n",
       "      <td>27.490543</td>\n",
       "      <td>27.444731</td>\n",
       "      <td>16.824003</td>\n",
       "      <td>12.746136</td>\n",
       "      <td>39.361987</td>\n",
       "    </tr>\n",
       "    <tr>\n",
       "      <th>Manuf</th>\n",
       "      <td>14.104907</td>\n",
       "      <td>39.178097</td>\n",
       "      <td>28.198970</td>\n",
       "      <td>23.145380</td>\n",
       "      <td>24.618739</td>\n",
       "      <td>19.550150</td>\n",
       "      <td>17.622867</td>\n",
       "      <td>13.596447</td>\n",
       "      <td>11.440612</td>\n",
       "      <td>26.313423</td>\n",
       "    </tr>\n",
       "    <tr>\n",
       "      <th>Enrgy</th>\n",
       "      <td>10.531341</td>\n",
       "      <td>27.019794</td>\n",
       "      <td>23.145380</td>\n",
       "      <td>36.984933</td>\n",
       "      <td>19.267276</td>\n",
       "      <td>15.366817</td>\n",
       "      <td>11.297800</td>\n",
       "      <td>9.630327</td>\n",
       "      <td>14.027168</td>\n",
       "      <td>18.320469</td>\n",
       "    </tr>\n",
       "    <tr>\n",
       "      <th>HiTec</th>\n",
       "      <td>12.922949</td>\n",
       "      <td>35.466652</td>\n",
       "      <td>24.618739</td>\n",
       "      <td>19.267276</td>\n",
       "      <td>28.957220</td>\n",
       "      <td>18.708273</td>\n",
       "      <td>17.837115</td>\n",
       "      <td>13.254064</td>\n",
       "      <td>10.304187</td>\n",
       "      <td>23.855470</td>\n",
       "    </tr>\n",
       "    <tr>\n",
       "      <th>Telcm</th>\n",
       "      <td>11.968078</td>\n",
       "      <td>27.490543</td>\n",
       "      <td>19.550150</td>\n",
       "      <td>15.366817</td>\n",
       "      <td>18.708273</td>\n",
       "      <td>19.787227</td>\n",
       "      <td>14.169356</td>\n",
       "      <td>11.506599</td>\n",
       "      <td>10.991596</td>\n",
       "      <td>19.610836</td>\n",
       "    </tr>\n",
       "    <tr>\n",
       "      <th>Shops</th>\n",
       "      <td>10.170832</td>\n",
       "      <td>27.444731</td>\n",
       "      <td>17.622867</td>\n",
       "      <td>11.297800</td>\n",
       "      <td>17.837115</td>\n",
       "      <td>14.169356</td>\n",
       "      <td>16.759084</td>\n",
       "      <td>10.178849</td>\n",
       "      <td>6.694350</td>\n",
       "      <td>19.226524</td>\n",
       "    </tr>\n",
       "    <tr>\n",
       "      <th>Hlth</th>\n",
       "      <td>9.953112</td>\n",
       "      <td>16.824003</td>\n",
       "      <td>13.596447</td>\n",
       "      <td>9.630327</td>\n",
       "      <td>13.254064</td>\n",
       "      <td>11.506599</td>\n",
       "      <td>10.178849</td>\n",
       "      <td>14.342669</td>\n",
       "      <td>7.475036</td>\n",
       "      <td>14.864553</td>\n",
       "    </tr>\n",
       "    <tr>\n",
       "      <th>Utils</th>\n",
       "      <td>7.866653</td>\n",
       "      <td>12.746136</td>\n",
       "      <td>11.440612</td>\n",
       "      <td>14.027168</td>\n",
       "      <td>10.304187</td>\n",
       "      <td>10.991596</td>\n",
       "      <td>6.694350</td>\n",
       "      <td>7.475036</td>\n",
       "      <td>13.703052</td>\n",
       "      <td>9.992960</td>\n",
       "    </tr>\n",
       "    <tr>\n",
       "      <th>Other</th>\n",
       "      <td>14.438409</td>\n",
       "      <td>39.361987</td>\n",
       "      <td>26.313423</td>\n",
       "      <td>18.320469</td>\n",
       "      <td>23.855470</td>\n",
       "      <td>19.610836</td>\n",
       "      <td>19.226524</td>\n",
       "      <td>14.864553</td>\n",
       "      <td>9.992960</td>\n",
       "      <td>31.163771</td>\n",
       "    </tr>\n",
       "  </tbody>\n",
       "</table>\n",
       "</div>"
      ],
      "text/plain": [
       "           NoDur      Durbl      Manuf      Enrgy      HiTec      Telcm  \\\n",
       "NoDur  11.193422  18.449666  14.104907  10.531341  12.922949  11.968078   \n",
       "Durbl  18.449666  69.920577  39.178097  27.019794  35.466652  27.490543   \n",
       "Manuf  14.104907  39.178097  28.198970  23.145380  24.618739  19.550150   \n",
       "Enrgy  10.531341  27.019794  23.145380  36.984933  19.267276  15.366817   \n",
       "HiTec  12.922949  35.466652  24.618739  19.267276  28.957220  18.708273   \n",
       "Telcm  11.968078  27.490543  19.550150  15.366817  18.708273  19.787227   \n",
       "Shops  10.170832  27.444731  17.622867  11.297800  17.837115  14.169356   \n",
       "Hlth    9.953112  16.824003  13.596447   9.630327  13.254064  11.506599   \n",
       "Utils   7.866653  12.746136  11.440612  14.027168  10.304187  10.991596   \n",
       "Other  14.438409  39.361987  26.313423  18.320469  23.855470  19.610836   \n",
       "\n",
       "           Shops       Hlth      Utils      Other  \n",
       "NoDur  10.170832   9.953112   7.866653  14.438409  \n",
       "Durbl  27.444731  16.824003  12.746136  39.361987  \n",
       "Manuf  17.622867  13.596447  11.440612  26.313423  \n",
       "Enrgy  11.297800   9.630327  14.027168  18.320469  \n",
       "HiTec  17.837115  13.254064  10.304187  23.855470  \n",
       "Telcm  14.169356  11.506599  10.991596  19.610836  \n",
       "Shops  16.759084  10.178849   6.694350  19.226524  \n",
       "Hlth   10.178849  14.342669   7.475036  14.864553  \n",
       "Utils   6.694350   7.475036  13.703052   9.992960  \n",
       "Other  19.226524  14.864553   9.992960  31.163771  "
      ]
     },
     "execution_count": 5,
     "metadata": {},
     "output_type": "execute_result"
    }
   ],
   "source": [
    "V = industry_portfolios.iloc[:, 1:11].cov()\n",
    "V"
   ]
  },
  {
   "cell_type": "markdown",
   "id": "e19ec37b",
   "metadata": {},
   "source": [
    ">**Table of Mean Returns and Standard Deviation of Returns**"
   ]
  },
  {
   "cell_type": "code",
   "execution_count": 6,
   "id": "1310ad1e",
   "metadata": {
    "scrolled": true
   },
   "outputs": [
    {
     "data": {
      "text/html": [
       "<div>\n",
       "<style scoped>\n",
       "    .dataframe tbody tr th:only-of-type {\n",
       "        vertical-align: middle;\n",
       "    }\n",
       "\n",
       "    .dataframe tbody tr th {\n",
       "        vertical-align: top;\n",
       "    }\n",
       "\n",
       "    .dataframe thead th {\n",
       "        text-align: right;\n",
       "    }\n",
       "</style>\n",
       "<table border=\"1\" class=\"dataframe\">\n",
       "  <thead>\n",
       "    <tr style=\"text-align: right;\">\n",
       "      <th></th>\n",
       "      <th>Mean Return</th>\n",
       "      <th>Standard Deviation</th>\n",
       "    </tr>\n",
       "  </thead>\n",
       "  <tbody>\n",
       "    <tr>\n",
       "      <th>NoDur</th>\n",
       "      <td>0.902833</td>\n",
       "      <td>3.345657</td>\n",
       "    </tr>\n",
       "    <tr>\n",
       "      <th>Durbl</th>\n",
       "      <td>0.733333</td>\n",
       "      <td>8.361852</td>\n",
       "    </tr>\n",
       "    <tr>\n",
       "      <th>Manuf</th>\n",
       "      <td>1.012833</td>\n",
       "      <td>5.310270</td>\n",
       "    </tr>\n",
       "    <tr>\n",
       "      <th>Enrgy</th>\n",
       "      <td>1.231167</td>\n",
       "      <td>6.081524</td>\n",
       "    </tr>\n",
       "    <tr>\n",
       "      <th>HiTec</th>\n",
       "      <td>0.766250</td>\n",
       "      <td>5.381191</td>\n",
       "    </tr>\n",
       "    <tr>\n",
       "      <th>Telcm</th>\n",
       "      <td>0.881417</td>\n",
       "      <td>4.448284</td>\n",
       "    </tr>\n",
       "    <tr>\n",
       "      <th>Shops</th>\n",
       "      <td>0.916333</td>\n",
       "      <td>4.093786</td>\n",
       "    </tr>\n",
       "    <tr>\n",
       "      <th>Hlth</th>\n",
       "      <td>0.783833</td>\n",
       "      <td>3.787172</td>\n",
       "    </tr>\n",
       "    <tr>\n",
       "      <th>Utils</th>\n",
       "      <td>0.907167</td>\n",
       "      <td>3.701763</td>\n",
       "    </tr>\n",
       "    <tr>\n",
       "      <th>Other</th>\n",
       "      <td>0.489083</td>\n",
       "      <td>5.582452</td>\n",
       "    </tr>\n",
       "  </tbody>\n",
       "</table>\n",
       "</div>"
      ],
      "text/plain": [
       "       Mean Return  Standard Deviation\n",
       "NoDur     0.902833            3.345657\n",
       "Durbl     0.733333            8.361852\n",
       "Manuf     1.012833            5.310270\n",
       "Enrgy     1.231167            6.081524\n",
       "HiTec     0.766250            5.381191\n",
       "Telcm     0.881417            4.448284\n",
       "Shops     0.916333            4.093786\n",
       "Hlth      0.783833            3.787172\n",
       "Utils     0.907167            3.701763\n",
       "Other     0.489083            5.582452"
      ]
     },
     "execution_count": 6,
     "metadata": {},
     "output_type": "execute_result"
    }
   ],
   "source": [
    "table = R.copy()\n",
    "table['Standard Deviation'] = industry_portfolios.iloc[:, 1:11].std()\n",
    "table"
   ]
  },
  {
   "cell_type": "markdown",
   "id": "6f07ab50",
   "metadata": {},
   "source": [
    ">**Plot Minimun-Variance Frontier**"
   ]
  },
  {
   "cell_type": "code",
   "execution_count": 7,
   "id": "7d7bffb8",
   "metadata": {
    "scrolled": true
   },
   "outputs": [
    {
     "data": {
      "image/png": "[encoded data removed]",
      "text/plain": [
       "<Figure size 432x288 with 1 Axes>"
      ]
     },
     "metadata": {
      "needs_background": "light"
     },
     "output_type": "display_data"
    }
   ],
   "source": [
    "# Create V', e\n",
    "inversed_V = np.linalg.inv(V)\n",
    "e = pd.Series(np.ones(10))\n",
    "\n",
    "# Get alpha, zeta, and delta\n",
    "alpha = np.dot(np.dot(R.T, inversed_V), e)\n",
    "zeta = np.dot(np.dot(R.T, inversed_V), R)\n",
    "delta = np.dot(np.dot(e.T, inversed_V), e)\n",
    "\n",
    "#Produce Rmv\n",
    "Rmv = alpha/delta\n",
    "\n",
    "# Calculate variance of returns for portfolio with Rp range from 0% to 2%\n",
    "def efficient_frontier(Rp):\n",
    "    variance_of_return_for_portfolio = 1/delta + (delta / (delta * zeta - pow(alpha, 2))) * pow(Rp - Rmv, 2)\n",
    "    standard_deviation_of_return = pow(variance_of_return_for_portfolio, 0.5)\n",
    "    return standard_deviation_of_return\n",
    "\n",
    "Rp = np.arange(0, 2.1, 0.1)\n",
    "standard_deviation_of_return = []\n",
    "for rp in Rp:\n",
    "    std = efficient_frontier(rp)\n",
    "    standard_deviation_of_return.append(std[0][0])\n",
    "    \n",
    "efficient_frontier_data = pd.DataFrame([list(Rp), standard_deviation_of_return], ['Expected Return', 'Std Dev of Return']).T\n",
    "\n",
    "# Plot Minimun-Variance Frontier\n",
    "\n",
    "plt.plot( 'Std Dev of Return', 'Expected Return', data = efficient_frontier_data, marker = '.', linestyle = '-')\n",
    "plt.title('Efficient Frontier')\n",
    "plt.xlabel('Std Dev of Return')\n",
    "plt.ylabel('Expected Return')\n",
    "plt.show()"
   ]
  },
  {
   "cell_type": "markdown",
   "id": "96fedac0",
   "metadata": {},
   "source": [
    "> **Economic Significance**: For an investor, the minimum variance frontier means that he/she can minimize risk while diversifying his/her risky asset portfolio, achieving maximum utility. And no portfolio will fall outside of the frontier."
   ]
  },
  {
   "cell_type": "markdown",
   "id": "1b372fc1",
   "metadata": {},
   "source": [
    "## II Efficient Frontier with Riskless Asset"
   ]
  },
  {
   "cell_type": "markdown",
   "id": "fa071e7b",
   "metadata": {},
   "source": [
    "> **Method 1: Using Lagrange Method to Get the Frontier**"
   ]
  },
  {
   "cell_type": "markdown",
   "id": "0c25850a",
   "metadata": {},
   "source": [
    "$$R_p = R_f\\pm(\\zeta-2\\alpha R_f+\\delta R_f^2)^\\frac{1}{2}\\sigma_p$$"
   ]
  },
  {
   "cell_type": "code",
   "execution_count": 8,
   "id": "161c7f72",
   "metadata": {},
   "outputs": [
    {
     "data": {
      "image/png": "[encoded data removed]",
      "text/plain": [
       "<Figure size 432x288 with 1 Axes>"
      ]
     },
     "metadata": {
      "needs_background": "light"
     },
     "output_type": "display_data"
    }
   ],
   "source": [
    "# Generate standard_deviation_of_return\n",
    "def efficient_frontier_with_riskless_asset(Rp, Rf):\n",
    "    variance_2 = (Rp - Rf)**2 / (zeta - 2*alpha*Rf + delta*(Rf**2))\n",
    "    standard_deviation_of_return = variance_2**0.5\n",
    "    return standard_deviation_of_return\n",
    "\n",
    "std_of_return_2 = []\n",
    "for rp in Rp:\n",
    "    std = efficient_frontier_with_riskless_asset(rp, 0.13)\n",
    "    std_of_return_2.append(std[0][0])\n",
    "efficient_frontier_data['Std Dev of Return with Riskless Asset'] = std_of_return_2\n",
    "\n",
    "#Plot Efficient Frontier with Rp range from 0% to 2% and Rf equals to 0.13%\n",
    "plt.plot('Std Dev of Return with Riskless Asset', 'Expected Return', data = efficient_frontier_data, color = 'r', marker = '.', linestyle = '-')\n",
    "plt.title('Efficient Frontier with Riskless Asset')\n",
    "plt.xlim(0, 5.3)\n",
    "plt.ylim(0, 2.3)\n",
    "plt.show()"
   ]
  },
  {
   "cell_type": "markdown",
   "id": "5f603da3",
   "metadata": {},
   "source": [
    "> **Economic Significance**: For an investor, the efficient frontier not only means maximizing investment returns while minimizing risk, but also helps the investor determine his/her allocation between risky and risk-free assets. So a risk-averse investor who want to maximize his/her utility must invest in the portfolio on frontier."
   ]
  },
  {
   "cell_type": "markdown",
   "id": "3b0e04aa",
   "metadata": {},
   "source": [
    "## III Tangent Portfolio"
   ]
  },
  {
   "cell_type": "code",
   "execution_count": 9,
   "id": "090f1975",
   "metadata": {
    "scrolled": false
   },
   "outputs": [
    {
     "data": {
      "image/png": "[encoded data removed]",
      "text/plain": [
       "<Figure size 432x288 with 1 Axes>"
      ]
     },
     "metadata": {
      "needs_background": "light"
     },
     "output_type": "display_data"
    }
   ],
   "source": [
    "plt.plot( 'Std Dev of Return', 'Expected Return', data = efficient_frontier_data, marker = '.', linestyle = ':')\n",
    "plt.plot('Std Dev of Return with Riskless Asset', 'Expected Return', data = efficient_frontier_data, color = 'r', marker = '.', linestyle = '-')\n",
    "#plt.legend('Std Dev', 'Std Dev of Return with Riskless Asset')\n",
    "plt.xlabel('Std Dev of Return')\n",
    "plt.ylabel('Expected Return')\n",
    "plt.xlim(0, 5.3)\n",
    "plt.ylim(0, 2.3)\n",
    "plt.title('Efficient Frontier')\n",
    "plt.show()"
   ]
  },
  {
   "cell_type": "markdown",
   "id": "317b5904",
   "metadata": {},
   "source": [
    ">**Calculate Sharo Ratio**"
   ]
  },
  {
   "cell_type": "markdown",
   "id": "ba53a782",
   "metadata": {},
   "source": [
    "$$\\frac{R_{tg} - R_f}{\\sigma_{tg}}=(\\zeta - 2\\alpha R_f + \\delta R_f^2)^\\frac{1}{2}$$\n",
    "*Where* $$\\sigma_{tg} = -\\frac{(\\zeta-2\\alpha R_f + \\delta R_f^2)^\\frac{1}{2}}{\\delta(R_f-R_{mv})}$$"
   ]
  },
  {
   "cell_type": "code",
   "execution_count": 10,
   "id": "0d7cb782",
   "metadata": {
    "scrolled": true
   },
   "outputs": [
    {
     "data": {
      "text/plain": [
       "0.4035655993495088"
      ]
     },
     "execution_count": 10,
     "metadata": {},
     "output_type": "execute_result"
    }
   ],
   "source": [
    "Rf = 0.13\n",
    "Sharp_Ratio = (zeta - 2*alpha*Rf + delta*Rf**2)**0.5\n",
    "Sharp_Ratio[0][0]"
   ]
  },
  {
   "cell_type": "markdown",
   "id": "a4dd0276",
   "metadata": {},
   "source": [
    ">**Method 2: Using Y-Intercept (0, 0.13) and slope (Sharp Ratio) to Draw the Frontier**"
   ]
  },
  {
   "cell_type": "markdown",
   "id": "f26acb62",
   "metadata": {},
   "source": [
    "$$R_p = R_f\\pm\\frac{R_{tg} - R_f}{\\sigma_{tg}}\\sigma_p$$"
   ]
  },
  {
   "cell_type": "code",
   "execution_count": 11,
   "id": "2e622c1a",
   "metadata": {
    "scrolled": true
   },
   "outputs": [
    {
     "data": {
      "image/png": "[encoded data removed]",
      "text/plain": [
       "<Figure size 432x288 with 1 Axes>"
      ]
     },
     "metadata": {
      "needs_background": "light"
     },
     "output_type": "display_data"
    }
   ],
   "source": [
    "std = range(0, 6)\n",
    "E_R = []\n",
    "for rp in std:\n",
    "    E_R.append(0.13 + Sharp_Ratio * std)\n",
    "plt.plot(std, E_R[0][0], color = 'r')\n",
    "plt.plot( 'Std Dev of Return', 'Expected Return', data = efficient_frontier_data, marker = '.', linestyle = ':')\n",
    "plt.xlabel('Std Dev of Return')\n",
    "plt.ylabel('Expected Return')\n",
    "plt.title('Efficient Frontier')\n",
    "plt.xlim(0, 5.3)\n",
    "plt.ylim(0, 2.3)\n",
    "plt.show()"
   ]
  },
  {
   "cell_type": "markdown",
   "id": "0f077507",
   "metadata": {},
   "source": [
    ">**The tangency portfolio weights for the ten industry portfolios.**"
   ]
  },
  {
   "cell_type": "markdown",
   "id": "a01fed77",
   "metadata": {},
   "source": [
    "$$w^* = \\lambda_{tg} V^{-1}(R-R_fe)$$\n",
    "*Where*$$\\lambda_{tg} = \\frac{R_p - R_p}{\\zeta-2\\alpha R_f+\\delta R_f^2}$$"
   ]
  },
  {
   "cell_type": "code",
   "execution_count": 12,
   "id": "d5cdafda",
   "metadata": {},
   "outputs": [
    {
     "data": {
      "text/plain": [
       "array([ 0.56797218, -0.2140726 ,  0.71410511,  0.10408719, -0.36343817,\n",
       "       -0.09546326,  0.99164683,  0.0755702 ,  0.13264333, -0.91305081])"
      ]
     },
     "execution_count": 12,
     "metadata": {},
     "output_type": "execute_result"
    }
   ],
   "source": [
    "Rtg = (alpha*Rf - zeta)/(delta*Rf - alpha)\n",
    "lambda_of_Lagrange = (Rtg - Rf)/(zeta - 2*alpha*Rf + delta*Rf**2)\n",
    "tangency_portfolio_weights = np.dot((lambda_of_Lagrange *  inversed_V), (np.array(R['Mean Return']) - Rf*e))\n",
    "tangency_portfolio_weights"
   ]
  },
  {
   "cell_type": "markdown",
   "id": "85bcf3bf",
   "metadata": {},
   "source": [
    "> **Economic Significance**: Tangent portfolio has the highest Sharp Ratio, which means it has the highest compensation for unit risk premium. For an investor, the tangent asset is the only risky asset he/she should invest in, i.e. he/she should allocate his money between the tangent asset and the risk-free asset. And under the market equilibrium, the tangent asset is the market asset, so the investor should invest the money allocated to the risky asset in all risky assets with the market value as the weight."
   ]
  }
 ],
 "metadata": {
  "kernelspec": {
   "display_name": "Python 3",
   "language": "python",
   "name": "python3"
  },
  "language_info": {
   "codemirror_mode": {
    "name": "ipython",
    "version": 3
   },
   "file_extension": ".py",
   "mimetype": "text/x-python",
   "name": "python",
   "nbconvert_exporter": "python",
   "pygments_lexer": "ipython3",
   "version": "3.8.8"
  }
 },
 "nbformat": 4,
 "nbformat_minor": 5
}
