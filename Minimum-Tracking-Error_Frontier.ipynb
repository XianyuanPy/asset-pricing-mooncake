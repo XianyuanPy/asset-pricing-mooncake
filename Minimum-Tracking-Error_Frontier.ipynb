{
 "cells": [
  {
   "cell_type": "markdown",
   "id": "ac4c1892",
   "metadata": {},
   "source": [
    "# Minimum-Tracking-Error Frontier &  Minimum-Variance Frontier w/o Short Sales Simulation"
   ]
  },
  {
   "cell_type": "code",
   "execution_count": 1,
   "id": "80454cbd",
   "metadata": {},
   "outputs": [],
   "source": [
    "import numpy as np\n",
    "import pandas as pd\n",
    "import matplotlib.pyplot as plt\n",
    "import statsmodels.api as sm\n",
    "%matplotlib inline"
   ]
  },
  {
   "cell_type": "code",
   "execution_count": 2,
   "id": "105391c9",
   "metadata": {
    "scrolled": true
   },
   "outputs": [
    {
     "name": "stderr",
     "output_type": "stream",
     "text": [
      "/Users/ciel/opt/anaconda3/lib/python3.8/site-packages/openpyxl/worksheet/_reader.py:312: UserWarning: Unknown extension is not supported and will be removed\n",
      "  warn(msg)\n"
     ]
    }
   ],
   "source": [
    "industry_portfolios = pd.read_excel('Industry_Portfolios.xlsx')\n",
    "market_portfolio = pd.read_excel('Market_Portfolio.xlsx')\n",
    "risk_factors = pd.read_excel('Risk_Factors.xlsx')"
   ]
  },
  {
   "cell_type": "code",
   "execution_count": 3,
   "id": "c45b7e3c",
   "metadata": {},
   "outputs": [
    {
     "data": {
      "text/html": [
       "<div>\n",
       "<style scoped>\n",
       "    .dataframe tbody tr th:only-of-type {\n",
       "        vertical-align: middle;\n",
       "    }\n",
       "\n",
       "    .dataframe tbody tr th {\n",
       "        vertical-align: top;\n",
       "    }\n",
       "\n",
       "    .dataframe thead th {\n",
       "        text-align: right;\n",
       "    }\n",
       "</style>\n",
       "<table border=\"1\" class=\"dataframe\">\n",
       "  <thead>\n",
       "    <tr style=\"text-align: right;\">\n",
       "      <th></th>\n",
       "      <th>NoDur</th>\n",
       "      <th>Durbl</th>\n",
       "      <th>Manuf</th>\n",
       "      <th>Enrgy</th>\n",
       "      <th>HiTec</th>\n",
       "      <th>Telcm</th>\n",
       "      <th>Shops</th>\n",
       "      <th>Hlth</th>\n",
       "      <th>Utils</th>\n",
       "      <th>Other</th>\n",
       "    </tr>\n",
       "    <tr>\n",
       "      <th>Date</th>\n",
       "      <th></th>\n",
       "      <th></th>\n",
       "      <th></th>\n",
       "      <th></th>\n",
       "      <th></th>\n",
       "      <th></th>\n",
       "      <th></th>\n",
       "      <th></th>\n",
       "      <th></th>\n",
       "      <th></th>\n",
       "    </tr>\n",
       "  </thead>\n",
       "  <tbody>\n",
       "    <tr>\n",
       "      <th>200401</th>\n",
       "      <td>0.06</td>\n",
       "      <td>-1.07</td>\n",
       "      <td>-0.62</td>\n",
       "      <td>0.44</td>\n",
       "      <td>4.53</td>\n",
       "      <td>1.41</td>\n",
       "      <td>0.45</td>\n",
       "      <td>3.09</td>\n",
       "      <td>1.92</td>\n",
       "      <td>2.88</td>\n",
       "    </tr>\n",
       "  </tbody>\n",
       "</table>\n",
       "</div>"
      ],
      "text/plain": [
       "        NoDur  Durbl  Manuf  Enrgy  HiTec  Telcm  Shops  Hlth  Utils  Other\n",
       "Date                                                                       \n",
       "200401   0.06  -1.07  -0.62   0.44   4.53   1.41   0.45  3.09   1.92   2.88"
      ]
     },
     "execution_count": 3,
     "metadata": {},
     "output_type": "execute_result"
    }
   ],
   "source": [
    "industry_portfolios = industry_portfolios.set_index('Date')\n",
    "industry_portfolios.head(1)"
   ]
  },
  {
   "cell_type": "code",
   "execution_count": 4,
   "id": "859a0c59",
   "metadata": {},
   "outputs": [
    {
     "data": {
      "text/html": [
       "<div>\n",
       "<style scoped>\n",
       "    .dataframe tbody tr th:only-of-type {\n",
       "        vertical-align: middle;\n",
       "    }\n",
       "\n",
       "    .dataframe tbody tr th {\n",
       "        vertical-align: top;\n",
       "    }\n",
       "\n",
       "    .dataframe thead th {\n",
       "        text-align: right;\n",
       "    }\n",
       "</style>\n",
       "<table border=\"1\" class=\"dataframe\">\n",
       "  <thead>\n",
       "    <tr style=\"text-align: right;\">\n",
       "      <th></th>\n",
       "      <th>Market</th>\n",
       "    </tr>\n",
       "    <tr>\n",
       "      <th>Date</th>\n",
       "      <th></th>\n",
       "    </tr>\n",
       "  </thead>\n",
       "  <tbody>\n",
       "    <tr>\n",
       "      <th>200401</th>\n",
       "      <td>2.22</td>\n",
       "    </tr>\n",
       "  </tbody>\n",
       "</table>\n",
       "</div>"
      ],
      "text/plain": [
       "        Market\n",
       "Date          \n",
       "200401    2.22"
      ]
     },
     "execution_count": 4,
     "metadata": {},
     "output_type": "execute_result"
    }
   ],
   "source": [
    "market_portfolio = market_portfolio.set_index('Date')\n",
    "market_portfolio.head(1)"
   ]
  },
  {
   "cell_type": "markdown",
   "id": "3b50b40c",
   "metadata": {},
   "source": [
    "## Part 1: Minimum-Tracking-Error Frontier"
   ]
  },
  {
   "cell_type": "markdown",
   "id": "8f33da37",
   "metadata": {},
   "source": [
    "> Expected Return Deviations"
   ]
  },
  {
   "cell_type": "code",
   "execution_count": 5,
   "id": "18b4adce",
   "metadata": {
    "scrolled": true
   },
   "outputs": [
    {
     "data": {
      "text/html": [
       "<div>\n",
       "<style scoped>\n",
       "    .dataframe tbody tr th:only-of-type {\n",
       "        vertical-align: middle;\n",
       "    }\n",
       "\n",
       "    .dataframe tbody tr th {\n",
       "        vertical-align: top;\n",
       "    }\n",
       "\n",
       "    .dataframe thead th {\n",
       "        text-align: right;\n",
       "    }\n",
       "</style>\n",
       "<table border=\"1\" class=\"dataframe\">\n",
       "  <thead>\n",
       "    <tr style=\"text-align: right;\">\n",
       "      <th></th>\n",
       "      <th>Expected_Deviation</th>\n",
       "    </tr>\n",
       "  </thead>\n",
       "  <tbody>\n",
       "    <tr>\n",
       "      <th>NoDur</th>\n",
       "      <td>0.154750</td>\n",
       "    </tr>\n",
       "    <tr>\n",
       "      <th>Durbl</th>\n",
       "      <td>-0.014750</td>\n",
       "    </tr>\n",
       "    <tr>\n",
       "      <th>Manuf</th>\n",
       "      <td>0.264750</td>\n",
       "    </tr>\n",
       "    <tr>\n",
       "      <th>Enrgy</th>\n",
       "      <td>0.483083</td>\n",
       "    </tr>\n",
       "    <tr>\n",
       "      <th>HiTec</th>\n",
       "      <td>0.018167</td>\n",
       "    </tr>\n",
       "    <tr>\n",
       "      <th>Telcm</th>\n",
       "      <td>0.133333</td>\n",
       "    </tr>\n",
       "    <tr>\n",
       "      <th>Shops</th>\n",
       "      <td>0.168250</td>\n",
       "    </tr>\n",
       "    <tr>\n",
       "      <th>Hlth</th>\n",
       "      <td>0.035750</td>\n",
       "    </tr>\n",
       "    <tr>\n",
       "      <th>Utils</th>\n",
       "      <td>0.159083</td>\n",
       "    </tr>\n",
       "    <tr>\n",
       "      <th>Other</th>\n",
       "      <td>-0.259000</td>\n",
       "    </tr>\n",
       "  </tbody>\n",
       "</table>\n",
       "</div>"
      ],
      "text/plain": [
       "       Expected_Deviation\n",
       "NoDur            0.154750\n",
       "Durbl           -0.014750\n",
       "Manuf            0.264750\n",
       "Enrgy            0.483083\n",
       "HiTec            0.018167\n",
       "Telcm            0.133333\n",
       "Shops            0.168250\n",
       "Hlth             0.035750\n",
       "Utils            0.159083\n",
       "Other           -0.259000"
      ]
     },
     "execution_count": 5,
     "metadata": {},
     "output_type": "execute_result"
    }
   ],
   "source": [
    "R = []\n",
    "for portfolio in industry_portfolios.columns:\n",
    "    r = np.mean(industry_portfolios[portfolio] - market_portfolio['Market'])\n",
    "    R.append(r)\n",
    "table = pd.DataFrame(R, index = industry_portfolios.columns, columns = ['Expected_Deviation'])\n",
    "table"
   ]
  },
  {
   "cell_type": "markdown",
   "id": "38b10d67",
   "metadata": {},
   "source": [
    "> Covariance Matrix of Return Deviations\n",
    "$$V_{ij} = Cov[(\\tilde{R_i}-\\tilde{R_m})]$$"
   ]
  },
  {
   "cell_type": "code",
   "execution_count": 6,
   "id": "c6bb75ce",
   "metadata": {
    "scrolled": false
   },
   "outputs": [
    {
     "data": {
      "text/html": [
       "<div>\n",
       "<style scoped>\n",
       "    .dataframe tbody tr th:only-of-type {\n",
       "        vertical-align: middle;\n",
       "    }\n",
       "\n",
       "    .dataframe tbody tr th {\n",
       "        vertical-align: top;\n",
       "    }\n",
       "\n",
       "    .dataframe thead th {\n",
       "        text-align: right;\n",
       "    }\n",
       "</style>\n",
       "<table border=\"1\" class=\"dataframe\">\n",
       "  <thead>\n",
       "    <tr style=\"text-align: right;\">\n",
       "      <th></th>\n",
       "      <th>NoDur</th>\n",
       "      <th>Durbl</th>\n",
       "      <th>Manuf</th>\n",
       "      <th>Enrgy</th>\n",
       "      <th>HiTec</th>\n",
       "      <th>Telcm</th>\n",
       "      <th>Shops</th>\n",
       "      <th>Hlth</th>\n",
       "      <th>Utils</th>\n",
       "      <th>Other</th>\n",
       "    </tr>\n",
       "  </thead>\n",
       "  <tbody>\n",
       "    <tr>\n",
       "      <th>NoDur</th>\n",
       "      <td>5.439696</td>\n",
       "      <td>-6.073035</td>\n",
       "      <td>-1.396192</td>\n",
       "      <td>-1.200533</td>\n",
       "      <td>-1.883151</td>\n",
       "      <td>1.538885</td>\n",
       "      <td>1.140741</td>\n",
       "      <td>3.815137</td>\n",
       "      <td>4.272002</td>\n",
       "      <td>-1.768738</td>\n",
       "    </tr>\n",
       "    <tr>\n",
       "      <th>Durbl</th>\n",
       "      <td>-6.073035</td>\n",
       "      <td>26.628901</td>\n",
       "      <td>4.908024</td>\n",
       "      <td>-3.481055</td>\n",
       "      <td>1.891577</td>\n",
       "      <td>-1.707625</td>\n",
       "      <td>-0.354335</td>\n",
       "      <td>-8.082946</td>\n",
       "      <td>-9.617490</td>\n",
       "      <td>4.385865</td>\n",
       "    </tr>\n",
       "    <tr>\n",
       "      <th>Manuf</th>\n",
       "      <td>-1.396192</td>\n",
       "      <td>4.908024</td>\n",
       "      <td>2.950499</td>\n",
       "      <td>1.666133</td>\n",
       "      <td>0.065267</td>\n",
       "      <td>-0.626416</td>\n",
       "      <td>-1.154597</td>\n",
       "      <td>-2.288900</td>\n",
       "      <td>-1.901412</td>\n",
       "      <td>0.358904</td>\n",
       "    </tr>\n",
       "    <tr>\n",
       "      <th>Enrgy</th>\n",
       "      <td>-1.200533</td>\n",
       "      <td>-3.481055</td>\n",
       "      <td>1.666133</td>\n",
       "      <td>19.274911</td>\n",
       "      <td>-1.516972</td>\n",
       "      <td>-1.040525</td>\n",
       "      <td>-3.710439</td>\n",
       "      <td>-2.485796</td>\n",
       "      <td>4.454368</td>\n",
       "      <td>-3.864826</td>\n",
       "    </tr>\n",
       "    <tr>\n",
       "      <th>HiTec</th>\n",
       "      <td>-1.883151</td>\n",
       "      <td>1.891577</td>\n",
       "      <td>0.065267</td>\n",
       "      <td>-1.516972</td>\n",
       "      <td>5.098746</td>\n",
       "      <td>-0.773294</td>\n",
       "      <td>-0.245350</td>\n",
       "      <td>-1.936284</td>\n",
       "      <td>-2.342839</td>\n",
       "      <td>-1.404050</td>\n",
       "    </tr>\n",
       "    <tr>\n",
       "      <th>Telcm</th>\n",
       "      <td>1.538885</td>\n",
       "      <td>-1.707625</td>\n",
       "      <td>-0.626416</td>\n",
       "      <td>-1.040525</td>\n",
       "      <td>-0.773294</td>\n",
       "      <td>4.682567</td>\n",
       "      <td>0.463797</td>\n",
       "      <td>0.693157</td>\n",
       "      <td>2.721477</td>\n",
       "      <td>-1.271778</td>\n",
       "    </tr>\n",
       "    <tr>\n",
       "      <th>Shops</th>\n",
       "      <td>1.140741</td>\n",
       "      <td>-0.354335</td>\n",
       "      <td>-1.154597</td>\n",
       "      <td>-3.710439</td>\n",
       "      <td>-0.245350</td>\n",
       "      <td>0.463797</td>\n",
       "      <td>4.452628</td>\n",
       "      <td>0.764510</td>\n",
       "      <td>-0.176666</td>\n",
       "      <td>-0.256987</td>\n",
       "    </tr>\n",
       "    <tr>\n",
       "      <th>Hlth</th>\n",
       "      <td>3.815137</td>\n",
       "      <td>-8.082946</td>\n",
       "      <td>-2.288900</td>\n",
       "      <td>-2.485796</td>\n",
       "      <td>-1.936284</td>\n",
       "      <td>0.693157</td>\n",
       "      <td>0.764510</td>\n",
       "      <td>7.820446</td>\n",
       "      <td>3.496136</td>\n",
       "      <td>-1.726842</td>\n",
       "    </tr>\n",
       "    <tr>\n",
       "      <th>Utils</th>\n",
       "      <td>4.272002</td>\n",
       "      <td>-9.617490</td>\n",
       "      <td>-1.901412</td>\n",
       "      <td>4.454368</td>\n",
       "      <td>-2.342839</td>\n",
       "      <td>2.721477</td>\n",
       "      <td>-0.176666</td>\n",
       "      <td>3.496136</td>\n",
       "      <td>12.267476</td>\n",
       "      <td>-4.055112</td>\n",
       "    </tr>\n",
       "    <tr>\n",
       "      <th>Other</th>\n",
       "      <td>-1.768738</td>\n",
       "      <td>4.385865</td>\n",
       "      <td>0.358904</td>\n",
       "      <td>-3.864826</td>\n",
       "      <td>-1.404050</td>\n",
       "      <td>-1.271778</td>\n",
       "      <td>-0.256987</td>\n",
       "      <td>-1.726842</td>\n",
       "      <td>-4.055112</td>\n",
       "      <td>4.503204</td>\n",
       "    </tr>\n",
       "  </tbody>\n",
       "</table>\n",
       "</div>"
      ],
      "text/plain": [
       "          NoDur      Durbl     Manuf      Enrgy     HiTec     Telcm     Shops  \\\n",
       "NoDur  5.439696  -6.073035 -1.396192  -1.200533 -1.883151  1.538885  1.140741   \n",
       "Durbl -6.073035  26.628901  4.908024  -3.481055  1.891577 -1.707625 -0.354335   \n",
       "Manuf -1.396192   4.908024  2.950499   1.666133  0.065267 -0.626416 -1.154597   \n",
       "Enrgy -1.200533  -3.481055  1.666133  19.274911 -1.516972 -1.040525 -3.710439   \n",
       "HiTec -1.883151   1.891577  0.065267  -1.516972  5.098746 -0.773294 -0.245350   \n",
       "Telcm  1.538885  -1.707625 -0.626416  -1.040525 -0.773294  4.682567  0.463797   \n",
       "Shops  1.140741  -0.354335 -1.154597  -3.710439 -0.245350  0.463797  4.452628   \n",
       "Hlth   3.815137  -8.082946 -2.288900  -2.485796 -1.936284  0.693157  0.764510   \n",
       "Utils  4.272002  -9.617490 -1.901412   4.454368 -2.342839  2.721477 -0.176666   \n",
       "Other -1.768738   4.385865  0.358904  -3.864826 -1.404050 -1.271778 -0.256987   \n",
       "\n",
       "           Hlth      Utils     Other  \n",
       "NoDur  3.815137   4.272002 -1.768738  \n",
       "Durbl -8.082946  -9.617490  4.385865  \n",
       "Manuf -2.288900  -1.901412  0.358904  \n",
       "Enrgy -2.485796   4.454368 -3.864826  \n",
       "HiTec -1.936284  -2.342839 -1.404050  \n",
       "Telcm  0.693157   2.721477 -1.271778  \n",
       "Shops  0.764510  -0.176666 -0.256987  \n",
       "Hlth   7.820446   3.496136 -1.726842  \n",
       "Utils  3.496136  12.267476 -4.055112  \n",
       "Other -1.726842  -4.055112  4.503204  "
      ]
     },
     "execution_count": 6,
     "metadata": {},
     "output_type": "execute_result"
    }
   ],
   "source": [
    "Return_Deviation = industry_portfolios.copy()\n",
    "for portfolio in industry_portfolios.columns:\n",
    "    Return_Deviation[portfolio] = Return_Deviation[portfolio] - market_portfolio['Market']\n",
    "V = Return_Deviation.iloc[:, 0:10].cov()\n",
    "V"
   ]
  },
  {
   "cell_type": "markdown",
   "id": "0cf908fe",
   "metadata": {},
   "source": [
    ">Standard Deviation of Return Deviations"
   ]
  },
  {
   "cell_type": "code",
   "execution_count": 7,
   "id": "5e81e6cb",
   "metadata": {
    "scrolled": true
   },
   "outputs": [
    {
     "data": {
      "text/html": [
       "<div>\n",
       "<style scoped>\n",
       "    .dataframe tbody tr th:only-of-type {\n",
       "        vertical-align: middle;\n",
       "    }\n",
       "\n",
       "    .dataframe tbody tr th {\n",
       "        vertical-align: top;\n",
       "    }\n",
       "\n",
       "    .dataframe thead th {\n",
       "        text-align: right;\n",
       "    }\n",
       "</style>\n",
       "<table border=\"1\" class=\"dataframe\">\n",
       "  <thead>\n",
       "    <tr style=\"text-align: right;\">\n",
       "      <th></th>\n",
       "      <th>Expected_Deviation</th>\n",
       "      <th>Std_Deviation</th>\n",
       "    </tr>\n",
       "  </thead>\n",
       "  <tbody>\n",
       "    <tr>\n",
       "      <th>NoDur</th>\n",
       "      <td>0.154750</td>\n",
       "      <td>2.332316</td>\n",
       "    </tr>\n",
       "    <tr>\n",
       "      <th>Durbl</th>\n",
       "      <td>-0.014750</td>\n",
       "      <td>5.160320</td>\n",
       "    </tr>\n",
       "    <tr>\n",
       "      <th>Manuf</th>\n",
       "      <td>0.264750</td>\n",
       "      <td>1.717702</td>\n",
       "    </tr>\n",
       "    <tr>\n",
       "      <th>Enrgy</th>\n",
       "      <td>0.483083</td>\n",
       "      <td>4.390320</td>\n",
       "    </tr>\n",
       "    <tr>\n",
       "      <th>HiTec</th>\n",
       "      <td>0.018167</td>\n",
       "      <td>2.258040</td>\n",
       "    </tr>\n",
       "    <tr>\n",
       "      <th>Telcm</th>\n",
       "      <td>0.133333</td>\n",
       "      <td>2.163924</td>\n",
       "    </tr>\n",
       "    <tr>\n",
       "      <th>Shops</th>\n",
       "      <td>0.168250</td>\n",
       "      <td>2.110125</td>\n",
       "    </tr>\n",
       "    <tr>\n",
       "      <th>Hlth</th>\n",
       "      <td>0.035750</td>\n",
       "      <td>2.796506</td>\n",
       "    </tr>\n",
       "    <tr>\n",
       "      <th>Utils</th>\n",
       "      <td>0.159083</td>\n",
       "      <td>3.502496</td>\n",
       "    </tr>\n",
       "    <tr>\n",
       "      <th>Other</th>\n",
       "      <td>-0.259000</td>\n",
       "      <td>2.122075</td>\n",
       "    </tr>\n",
       "  </tbody>\n",
       "</table>\n",
       "</div>"
      ],
      "text/plain": [
       "       Expected_Deviation  Std_Deviation\n",
       "NoDur            0.154750       2.332316\n",
       "Durbl           -0.014750       5.160320\n",
       "Manuf            0.264750       1.717702\n",
       "Enrgy            0.483083       4.390320\n",
       "HiTec            0.018167       2.258040\n",
       "Telcm            0.133333       2.163924\n",
       "Shops            0.168250       2.110125\n",
       "Hlth             0.035750       2.796506\n",
       "Utils            0.159083       3.502496\n",
       "Other           -0.259000       2.122075"
      ]
     },
     "execution_count": 7,
     "metadata": {},
     "output_type": "execute_result"
    }
   ],
   "source": [
    "table['Std_Deviation'] = Return_Deviation.iloc[:, 0:10].std()\n",
    "table"
   ]
  },
  {
   "cell_type": "markdown",
   "id": "82f31014",
   "metadata": {},
   "source": [
    ">Minimum-Tracking-Error Frontier\n",
    "$$\\sigma_{i-m}^2 = w'Vw =\\frac{1}{\\delta}+\\frac{\\delta}{\\zeta\\delta-\\alpha^2}(R_p - R_{mv})^2$$\n",
    "$$R_p = R_{mv} \\pm (\\zeta-\\frac{\\alpha^2}{\\delta})^\\frac{1}{2}\\sigma_p$$\n",
    "*Where*\n",
    "$$\\alpha = R_{i-m}'V^{-1}e$$\n",
    "$$\\zeta = R_{i-m}'V^{-1}R_{i-m}$$\n",
    "$$\\delta = e'V^{-1}e$$\n",
    "$$R_{mv} = \\frac{\\alpha}{\\delta}$$"
   ]
  },
  {
   "cell_type": "code",
   "execution_count": 8,
   "id": "27b64801",
   "metadata": {},
   "outputs": [
    {
     "name": "stdout",
     "output_type": "stream",
     "text": [
      "alpha =  2.932127882630625 \n",
      " zeta =  0.20474497351130078 \n",
      " delta =  58.55025437639894 \n",
      " Rmv =  0.05007882397540084\n"
     ]
    }
   ],
   "source": [
    "# Create V', e\n",
    "inversed_V = np.linalg.inv(V)\n",
    "e = pd.Series(np.ones(10))\n",
    "\n",
    "# Calculate alpha, zeta, and delta\n",
    "alpha = np.dot(np.dot(table.Expected_Deviation.T, inversed_V), e)\n",
    "zeta = np.dot(np.dot(table.Expected_Deviation.T, inversed_V), table.Expected_Deviation)\n",
    "delta = np.dot(np.dot(e.T, inversed_V), e)\n",
    "\n",
    "#Produce Rmv\n",
    "Rmv = alpha/delta\n",
    "\n",
    "print('alpha = ', str(alpha), '\\n', 'zeta = ', str(zeta), '\\n','delta = ', str(delta), '\\n', 'Rmv = ', str(Rmv))"
   ]
  },
  {
   "cell_type": "code",
   "execution_count": 9,
   "id": "3c33a141",
   "metadata": {},
   "outputs": [
    {
     "data": {
      "text/html": [
       "<div>\n",
       "<style scoped>\n",
       "    .dataframe tbody tr th:only-of-type {\n",
       "        vertical-align: middle;\n",
       "    }\n",
       "\n",
       "    .dataframe tbody tr th {\n",
       "        vertical-align: top;\n",
       "    }\n",
       "\n",
       "    .dataframe thead th {\n",
       "        text-align: right;\n",
       "    }\n",
       "</style>\n",
       "<table border=\"1\" class=\"dataframe\">\n",
       "  <thead>\n",
       "    <tr style=\"text-align: right;\">\n",
       "      <th></th>\n",
       "      <th>Expected Return Deviation</th>\n",
       "      <th>Tracking Error</th>\n",
       "    </tr>\n",
       "  </thead>\n",
       "  <tbody>\n",
       "    <tr>\n",
       "      <th>0</th>\n",
       "      <td>0.000</td>\n",
       "      <td>0.245740</td>\n",
       "    </tr>\n",
       "    <tr>\n",
       "      <th>1</th>\n",
       "      <td>0.005</td>\n",
       "      <td>0.228411</td>\n",
       "    </tr>\n",
       "    <tr>\n",
       "      <th>2</th>\n",
       "      <td>0.010</td>\n",
       "      <td>0.211704</td>\n",
       "    </tr>\n",
       "    <tr>\n",
       "      <th>3</th>\n",
       "      <td>0.015</td>\n",
       "      <td>0.195778</td>\n",
       "    </tr>\n",
       "    <tr>\n",
       "      <th>4</th>\n",
       "      <td>0.020</td>\n",
       "      <td>0.180840</td>\n",
       "    </tr>\n",
       "    <tr>\n",
       "      <th>5</th>\n",
       "      <td>0.025</td>\n",
       "      <td>0.167154</td>\n",
       "    </tr>\n",
       "    <tr>\n",
       "      <th>6</th>\n",
       "      <td>0.030</td>\n",
       "      <td>0.155053</td>\n",
       "    </tr>\n",
       "    <tr>\n",
       "      <th>7</th>\n",
       "      <td>0.035</td>\n",
       "      <td>0.144934</td>\n",
       "    </tr>\n",
       "    <tr>\n",
       "      <th>8</th>\n",
       "      <td>0.040</td>\n",
       "      <td>0.137235</td>\n",
       "    </tr>\n",
       "    <tr>\n",
       "      <th>9</th>\n",
       "      <td>0.045</td>\n",
       "      <td>0.132381</td>\n",
       "    </tr>\n",
       "    <tr>\n",
       "      <th>10</th>\n",
       "      <td>0.050</td>\n",
       "      <td>0.130688</td>\n",
       "    </tr>\n",
       "    <tr>\n",
       "      <th>11</th>\n",
       "      <td>0.055</td>\n",
       "      <td>0.132278</td>\n",
       "    </tr>\n",
       "    <tr>\n",
       "      <th>12</th>\n",
       "      <td>0.060</td>\n",
       "      <td>0.137037</td>\n",
       "    </tr>\n",
       "    <tr>\n",
       "      <th>13</th>\n",
       "      <td>0.065</td>\n",
       "      <td>0.144652</td>\n",
       "    </tr>\n",
       "    <tr>\n",
       "      <th>14</th>\n",
       "      <td>0.070</td>\n",
       "      <td>0.154702</td>\n",
       "    </tr>\n",
       "    <tr>\n",
       "      <th>15</th>\n",
       "      <td>0.075</td>\n",
       "      <td>0.166747</td>\n",
       "    </tr>\n",
       "    <tr>\n",
       "      <th>16</th>\n",
       "      <td>0.080</td>\n",
       "      <td>0.180388</td>\n",
       "    </tr>\n",
       "    <tr>\n",
       "      <th>17</th>\n",
       "      <td>0.085</td>\n",
       "      <td>0.195291</td>\n",
       "    </tr>\n",
       "    <tr>\n",
       "      <th>18</th>\n",
       "      <td>0.090</td>\n",
       "      <td>0.211189</td>\n",
       "    </tr>\n",
       "    <tr>\n",
       "      <th>19</th>\n",
       "      <td>0.095</td>\n",
       "      <td>0.227874</td>\n",
       "    </tr>\n",
       "    <tr>\n",
       "      <th>20</th>\n",
       "      <td>0.100</td>\n",
       "      <td>0.245185</td>\n",
       "    </tr>\n",
       "  </tbody>\n",
       "</table>\n",
       "</div>"
      ],
      "text/plain": [
       "    Expected Return Deviation  Tracking Error\n",
       "0                       0.000        0.245740\n",
       "1                       0.005        0.228411\n",
       "2                       0.010        0.211704\n",
       "3                       0.015        0.195778\n",
       "4                       0.020        0.180840\n",
       "5                       0.025        0.167154\n",
       "6                       0.030        0.155053\n",
       "7                       0.035        0.144934\n",
       "8                       0.040        0.137235\n",
       "9                       0.045        0.132381\n",
       "10                      0.050        0.130688\n",
       "11                      0.055        0.132278\n",
       "12                      0.060        0.137037\n",
       "13                      0.065        0.144652\n",
       "14                      0.070        0.154702\n",
       "15                      0.075        0.166747\n",
       "16                      0.080        0.180388\n",
       "17                      0.085        0.195291\n",
       "18                      0.090        0.211189\n",
       "19                      0.095        0.227874\n",
       "20                      0.100        0.245185"
      ]
     },
     "execution_count": 9,
     "metadata": {},
     "output_type": "execute_result"
    }
   ],
   "source": [
    "# Calculate variance of return deviation of portfolios with Rp range from 0% to 0.1%\n",
    "def minimum_tracking_error_frontier(Rp):\n",
    "    variance_of_return_deviation = 1/delta + (delta / (delta * zeta - pow(alpha, 2))) * pow(Rp - Rmv, 2)\n",
    "    tracking_error = pow(variance_of_return_deviation, 0.5)\n",
    "    return tracking_error\n",
    "\n",
    "Rp = np.arange(0, 0.105, 0.005)\n",
    "tracking_error = []\n",
    "for rp in Rp:\n",
    "    std = minimum_tracking_error_frontier(rp)\n",
    "    tracking_error.append(std)\n",
    "    \n",
    "minimum_tracking_error_frontier_data = pd.DataFrame([list(Rp), \n",
    "                                                    tracking_error], \n",
    "                                                    ['Expected Return Deviation', 'Tracking Error']).T\n",
    "minimum_tracking_error_frontier_data "
   ]
  },
  {
   "cell_type": "code",
   "execution_count": 10,
   "id": "a5ba3df1",
   "metadata": {
    "scrolled": true
   },
   "outputs": [
    {
     "data": {
      "text/plain": [
       "Text(0, 0.5, 'Tracking Error (%)')"
      ]
     },
     "execution_count": 10,
     "metadata": {},
     "output_type": "execute_result"
    },
    {
     "data": {
      "image/png": "[encoded data removed]",
      "text/plain": [
       "<Figure size 720x576 with 1 Axes>"
      ]
     },
     "metadata": {
      "needs_background": "light"
     },
     "output_type": "display_data"
    }
   ],
   "source": [
    "# Plot Minimum-Tracking-Error Frontier\n",
    "plt.figure(figsize = (10, 8))\n",
    "plt.plot('Tracking Error', 'Expected Return Deviation', data = minimum_tracking_error_frontier_data, linestyle = '-')\n",
    "plt.title('Minimum-Tracking-Error Frontier')\n",
    "plt.xlabel('Expacted Return Deviation (%)')\n",
    "plt.xlim(0, 0.25)\n",
    "plt.ylim(0, 0.12)\n",
    "plt.ylabel('Tracking Error (%)')"
   ]
  },
  {
   "cell_type": "markdown",
   "id": "4ffcf18c",
   "metadata": {},
   "source": [
    "## Tangent Portfolio"
   ]
  },
  {
   "cell_type": "code",
   "execution_count": 11,
   "id": "e301ca8f",
   "metadata": {
    "scrolled": false
   },
   "outputs": [
    {
     "data": {
      "image/png": "[encoded data removed]",
      "text/plain": [
       "<Figure size 720x576 with 1 Axes>"
      ]
     },
     "metadata": {
      "needs_background": "light"
     },
     "output_type": "display_data"
    }
   ],
   "source": [
    "# Generate standard deviation of return deviation\n",
    "def tangent_line(r):\n",
    "    tracking_error = (r - 0)**2 / (zeta - 2*alpha*0 + delta*(0**2))\n",
    "    standard_deviation_of_return_deviation = tracking_error**0.5\n",
    "    return standard_deviation_of_return_deviation\n",
    "\n",
    "std_of_return_deviation = []\n",
    "for rp in minimum_tracking_error_frontier_data['Expected Return Deviation']:\n",
    "    std = tangent_line(rp)\n",
    "    std_of_return_deviation.append(std)\n",
    "minimum_tracking_error_frontier_data['Tracking Error 2'] = std_of_return_deviation\n",
    "\n",
    "#Plot Minimun-Tracking-Error Frontier with Tangent Line starting from the Origin\n",
    "plt.figure(figsize = (10, 8))\n",
    "plt.plot('Tracking Error 2', 'Expected Return Deviation', data = minimum_tracking_error_frontier_data, label = 'Tangent Line')\n",
    "plt.plot('Tracking Error', 'Expected Return Deviation', data = minimum_tracking_error_frontier_data, label = 'Frontier')\n",
    "plt.title('Minimum-Tracking-Error Frontier')\n",
    "plt.xlabel('Expacted Return Deviation (%)')\n",
    "plt.xlim(0, 0.25)\n",
    "plt.ylim(0, 0.12)\n",
    "plt.ylabel('Tracking Error (%)')\n",
    "plt.legend()\n",
    "plt.show();"
   ]
  },
  {
   "cell_type": "markdown",
   "id": "f75ccbcb",
   "metadata": {},
   "source": [
    "$$R_{tg}=R_{mv} - \\frac{\\zeta\\delta - \\alpha^2}{\\delta^2(-R_{mv})}$$"
   ]
  },
  {
   "cell_type": "code",
   "execution_count": 12,
   "id": "3a4f1c6b",
   "metadata": {
    "scrolled": true
   },
   "outputs": [
    {
     "data": {
      "text/plain": [
       "0.06982811859065614"
      ]
     },
     "execution_count": 12,
     "metadata": {},
     "output_type": "execute_result"
    }
   ],
   "source": [
    "R_tg = Rmv-(zeta*delta-alpha**2)/(delta**2*(-Rmv))\n",
    "R_tg"
   ]
  },
  {
   "cell_type": "markdown",
   "id": "86758636",
   "metadata": {},
   "source": [
    "$$\\sigma_{tg} = \\frac{1}{\\delta} + \\frac{\\delta(R_{tg}-R_{mv})^2}{\\zeta\\delta - \\alpha^2}$$"
   ]
  },
  {
   "cell_type": "code",
   "execution_count": 13,
   "id": "1b1d667f",
   "metadata": {
    "scrolled": true
   },
   "outputs": [
    {
     "data": {
      "text/plain": [
       "0.15432053366443688"
      ]
     },
     "execution_count": 13,
     "metadata": {},
     "output_type": "execute_result"
    }
   ],
   "source": [
    "sigma_tg = (1/delta + (delta*(R_tg-Rmv)**2)/(zeta*delta - alpha**2))**0.5\n",
    "sigma_tg"
   ]
  },
  {
   "cell_type": "markdown",
   "id": "5c93cff8",
   "metadata": {},
   "source": [
    "*Slope of tangent line is **Information Ratio** of tangent portfolio* \n",
    "$$I_{tg}=\\frac{E(\\tilde{R_{tg}}-\\tilde{R_m})}{\\sqrt{Var(\\tilde{R_{tg}}-\\tilde{R_m})}}=\\frac{R_{tg}}{\\sigma_{tg}}$$"
   ]
  },
  {
   "cell_type": "code",
   "execution_count": 14,
   "id": "0c827763",
   "metadata": {},
   "outputs": [
    {
     "data": {
      "text/plain": [
       "0.4524875396199334"
      ]
     },
     "execution_count": 14,
     "metadata": {},
     "output_type": "execute_result"
    }
   ],
   "source": [
    "Information_Ratio = R_tg/sigma_tg\n",
    "Information_Ratio"
   ]
  },
  {
   "cell_type": "markdown",
   "id": "f5b2a015",
   "metadata": {},
   "source": [
    "**The tangency portfolio weights for the ten industry portfolios.**\n",
    "$$w^* = \\lambda_{tg} V^{-1}R$$\n",
    "*Where*$$\\lambda_{tg} = \\frac{R_{tg}}{\\zeta}$$"
   ]
  },
  {
   "cell_type": "code",
   "execution_count": 15,
   "id": "90f5d05b",
   "metadata": {},
   "outputs": [
    {
     "data": {
      "text/html": [
       "<div>\n",
       "<style scoped>\n",
       "    .dataframe tbody tr th:only-of-type {\n",
       "        vertical-align: middle;\n",
       "    }\n",
       "\n",
       "    .dataframe tbody tr th {\n",
       "        vertical-align: top;\n",
       "    }\n",
       "\n",
       "    .dataframe thead th {\n",
       "        text-align: right;\n",
       "    }\n",
       "</style>\n",
       "<table border=\"1\" class=\"dataframe\">\n",
       "  <thead>\n",
       "    <tr style=\"text-align: right;\">\n",
       "      <th></th>\n",
       "      <th>Weights</th>\n",
       "    </tr>\n",
       "  </thead>\n",
       "  <tbody>\n",
       "    <tr>\n",
       "      <th>NoDur</th>\n",
       "      <td>0.052634</td>\n",
       "    </tr>\n",
       "    <tr>\n",
       "      <th>Durbl</th>\n",
       "      <td>0.000153</td>\n",
       "    </tr>\n",
       "    <tr>\n",
       "      <th>Manuf</th>\n",
       "      <td>0.137627</td>\n",
       "    </tr>\n",
       "    <tr>\n",
       "      <th>Enrgy</th>\n",
       "      <td>0.087032</td>\n",
       "    </tr>\n",
       "    <tr>\n",
       "      <th>HiTec</th>\n",
       "      <td>0.179353</td>\n",
       "    </tr>\n",
       "    <tr>\n",
       "      <th>Telcm</th>\n",
       "      <td>0.071074</td>\n",
       "    </tr>\n",
       "    <tr>\n",
       "      <th>Shops</th>\n",
       "      <td>0.106884</td>\n",
       "    </tr>\n",
       "    <tr>\n",
       "      <th>Hlth</th>\n",
       "      <td>0.102776</td>\n",
       "    </tr>\n",
       "    <tr>\n",
       "      <th>Utils</th>\n",
       "      <td>0.040162</td>\n",
       "    </tr>\n",
       "    <tr>\n",
       "      <th>Other</th>\n",
       "      <td>0.222304</td>\n",
       "    </tr>\n",
       "  </tbody>\n",
       "</table>\n",
       "</div>"
      ],
      "text/plain": [
       "        Weights\n",
       "NoDur  0.052634\n",
       "Durbl  0.000153\n",
       "Manuf  0.137627\n",
       "Enrgy  0.087032\n",
       "HiTec  0.179353\n",
       "Telcm  0.071074\n",
       "Shops  0.106884\n",
       "Hlth   0.102776\n",
       "Utils  0.040162\n",
       "Other  0.222304"
      ]
     },
     "execution_count": 15,
     "metadata": {},
     "output_type": "execute_result"
    }
   ],
   "source": [
    "lambda_tg = R_tg/zeta\n",
    "tangency_portfolio_weights = np.dot(lambda_tg*inversed_V, table.Expected_Deviation)\n",
    "weights = pd.DataFrame(tangency_portfolio_weights, index = table.index, columns =['Weights'])\n",
    "weights"
   ]
  },
  {
   "cell_type": "markdown",
   "id": "62675a31",
   "metadata": {},
   "source": [
    "## Part II Minimum-Variance Frontier w/o Short Sales"
   ]
  },
  {
   "cell_type": "code",
   "execution_count": 16,
   "id": "912fb0cf",
   "metadata": {
    "scrolled": false
   },
   "outputs": [
    {
     "data": {
      "text/html": [
       "<div>\n",
       "<style scoped>\n",
       "    .dataframe tbody tr th:only-of-type {\n",
       "        vertical-align: middle;\n",
       "    }\n",
       "\n",
       "    .dataframe tbody tr th {\n",
       "        vertical-align: top;\n",
       "    }\n",
       "\n",
       "    .dataframe thead th {\n",
       "        text-align: right;\n",
       "    }\n",
       "</style>\n",
       "<table border=\"1\" class=\"dataframe\">\n",
       "  <thead>\n",
       "    <tr style=\"text-align: right;\">\n",
       "      <th></th>\n",
       "      <th>Expected_Deviation</th>\n",
       "      <th>Std_Deviation</th>\n",
       "      <th>Mean_Return</th>\n",
       "    </tr>\n",
       "  </thead>\n",
       "  <tbody>\n",
       "    <tr>\n",
       "      <th>NoDur</th>\n",
       "      <td>0.154750</td>\n",
       "      <td>2.332316</td>\n",
       "      <td>0.902833</td>\n",
       "    </tr>\n",
       "    <tr>\n",
       "      <th>Durbl</th>\n",
       "      <td>-0.014750</td>\n",
       "      <td>5.160320</td>\n",
       "      <td>0.733333</td>\n",
       "    </tr>\n",
       "    <tr>\n",
       "      <th>Manuf</th>\n",
       "      <td>0.264750</td>\n",
       "      <td>1.717702</td>\n",
       "      <td>1.012833</td>\n",
       "    </tr>\n",
       "    <tr>\n",
       "      <th>Enrgy</th>\n",
       "      <td>0.483083</td>\n",
       "      <td>4.390320</td>\n",
       "      <td>1.231167</td>\n",
       "    </tr>\n",
       "    <tr>\n",
       "      <th>HiTec</th>\n",
       "      <td>0.018167</td>\n",
       "      <td>2.258040</td>\n",
       "      <td>0.766250</td>\n",
       "    </tr>\n",
       "    <tr>\n",
       "      <th>Telcm</th>\n",
       "      <td>0.133333</td>\n",
       "      <td>2.163924</td>\n",
       "      <td>0.881417</td>\n",
       "    </tr>\n",
       "    <tr>\n",
       "      <th>Shops</th>\n",
       "      <td>0.168250</td>\n",
       "      <td>2.110125</td>\n",
       "      <td>0.916333</td>\n",
       "    </tr>\n",
       "    <tr>\n",
       "      <th>Hlth</th>\n",
       "      <td>0.035750</td>\n",
       "      <td>2.796506</td>\n",
       "      <td>0.783833</td>\n",
       "    </tr>\n",
       "    <tr>\n",
       "      <th>Utils</th>\n",
       "      <td>0.159083</td>\n",
       "      <td>3.502496</td>\n",
       "      <td>0.907167</td>\n",
       "    </tr>\n",
       "    <tr>\n",
       "      <th>Other</th>\n",
       "      <td>-0.259000</td>\n",
       "      <td>2.122075</td>\n",
       "      <td>0.489083</td>\n",
       "    </tr>\n",
       "  </tbody>\n",
       "</table>\n",
       "</div>"
      ],
      "text/plain": [
       "       Expected_Deviation  Std_Deviation  Mean_Return\n",
       "NoDur            0.154750       2.332316     0.902833\n",
       "Durbl           -0.014750       5.160320     0.733333\n",
       "Manuf            0.264750       1.717702     1.012833\n",
       "Enrgy            0.483083       4.390320     1.231167\n",
       "HiTec            0.018167       2.258040     0.766250\n",
       "Telcm            0.133333       2.163924     0.881417\n",
       "Shops            0.168250       2.110125     0.916333\n",
       "Hlth             0.035750       2.796506     0.783833\n",
       "Utils            0.159083       3.502496     0.907167\n",
       "Other           -0.259000       2.122075     0.489083"
      ]
     },
     "execution_count": 16,
     "metadata": {},
     "output_type": "execute_result"
    }
   ],
   "source": [
    "table['Mean_Return'] = industry_portfolios.iloc[:, 0:10].mean()\n",
    "table"
   ]
  },
  {
   "cell_type": "code",
   "execution_count": 17,
   "id": "b5e731a8",
   "metadata": {
    "scrolled": false
   },
   "outputs": [
    {
     "data": {
      "text/html": [
       "<div>\n",
       "<style scoped>\n",
       "    .dataframe tbody tr th:only-of-type {\n",
       "        vertical-align: middle;\n",
       "    }\n",
       "\n",
       "    .dataframe tbody tr th {\n",
       "        vertical-align: top;\n",
       "    }\n",
       "\n",
       "    .dataframe thead th {\n",
       "        text-align: right;\n",
       "    }\n",
       "</style>\n",
       "<table border=\"1\" class=\"dataframe\">\n",
       "  <thead>\n",
       "    <tr style=\"text-align: right;\">\n",
       "      <th></th>\n",
       "      <th>NoDur</th>\n",
       "      <th>Durbl</th>\n",
       "      <th>Manuf</th>\n",
       "      <th>Enrgy</th>\n",
       "      <th>HiTec</th>\n",
       "      <th>Telcm</th>\n",
       "      <th>Shops</th>\n",
       "      <th>Hlth</th>\n",
       "      <th>Utils</th>\n",
       "      <th>Other</th>\n",
       "    </tr>\n",
       "  </thead>\n",
       "  <tbody>\n",
       "    <tr>\n",
       "      <th>NoDur</th>\n",
       "      <td>11.193422</td>\n",
       "      <td>18.449666</td>\n",
       "      <td>14.104907</td>\n",
       "      <td>10.531341</td>\n",
       "      <td>12.922949</td>\n",
       "      <td>11.968078</td>\n",
       "      <td>10.170832</td>\n",
       "      <td>9.953112</td>\n",
       "      <td>7.866653</td>\n",
       "      <td>14.438409</td>\n",
       "    </tr>\n",
       "    <tr>\n",
       "      <th>Durbl</th>\n",
       "      <td>18.449666</td>\n",
       "      <td>69.920577</td>\n",
       "      <td>39.178097</td>\n",
       "      <td>27.019794</td>\n",
       "      <td>35.466652</td>\n",
       "      <td>27.490543</td>\n",
       "      <td>27.444731</td>\n",
       "      <td>16.824003</td>\n",
       "      <td>12.746136</td>\n",
       "      <td>39.361987</td>\n",
       "    </tr>\n",
       "    <tr>\n",
       "      <th>Manuf</th>\n",
       "      <td>14.104907</td>\n",
       "      <td>39.178097</td>\n",
       "      <td>28.198970</td>\n",
       "      <td>23.145380</td>\n",
       "      <td>24.618739</td>\n",
       "      <td>19.550150</td>\n",
       "      <td>17.622867</td>\n",
       "      <td>13.596447</td>\n",
       "      <td>11.440612</td>\n",
       "      <td>26.313423</td>\n",
       "    </tr>\n",
       "    <tr>\n",
       "      <th>Enrgy</th>\n",
       "      <td>10.531341</td>\n",
       "      <td>27.019794</td>\n",
       "      <td>23.145380</td>\n",
       "      <td>36.984933</td>\n",
       "      <td>19.267276</td>\n",
       "      <td>15.366817</td>\n",
       "      <td>11.297800</td>\n",
       "      <td>9.630327</td>\n",
       "      <td>14.027168</td>\n",
       "      <td>18.320469</td>\n",
       "    </tr>\n",
       "    <tr>\n",
       "      <th>HiTec</th>\n",
       "      <td>12.922949</td>\n",
       "      <td>35.466652</td>\n",
       "      <td>24.618739</td>\n",
       "      <td>19.267276</td>\n",
       "      <td>28.957220</td>\n",
       "      <td>18.708273</td>\n",
       "      <td>17.837115</td>\n",
       "      <td>13.254064</td>\n",
       "      <td>10.304187</td>\n",
       "      <td>23.855470</td>\n",
       "    </tr>\n",
       "    <tr>\n",
       "      <th>Telcm</th>\n",
       "      <td>11.968078</td>\n",
       "      <td>27.490543</td>\n",
       "      <td>19.550150</td>\n",
       "      <td>15.366817</td>\n",
       "      <td>18.708273</td>\n",
       "      <td>19.787227</td>\n",
       "      <td>14.169356</td>\n",
       "      <td>11.506599</td>\n",
       "      <td>10.991596</td>\n",
       "      <td>19.610836</td>\n",
       "    </tr>\n",
       "    <tr>\n",
       "      <th>Shops</th>\n",
       "      <td>10.170832</td>\n",
       "      <td>27.444731</td>\n",
       "      <td>17.622867</td>\n",
       "      <td>11.297800</td>\n",
       "      <td>17.837115</td>\n",
       "      <td>14.169356</td>\n",
       "      <td>16.759084</td>\n",
       "      <td>10.178849</td>\n",
       "      <td>6.694350</td>\n",
       "      <td>19.226524</td>\n",
       "    </tr>\n",
       "    <tr>\n",
       "      <th>Hlth</th>\n",
       "      <td>9.953112</td>\n",
       "      <td>16.824003</td>\n",
       "      <td>13.596447</td>\n",
       "      <td>9.630327</td>\n",
       "      <td>13.254064</td>\n",
       "      <td>11.506599</td>\n",
       "      <td>10.178849</td>\n",
       "      <td>14.342669</td>\n",
       "      <td>7.475036</td>\n",
       "      <td>14.864553</td>\n",
       "    </tr>\n",
       "    <tr>\n",
       "      <th>Utils</th>\n",
       "      <td>7.866653</td>\n",
       "      <td>12.746136</td>\n",
       "      <td>11.440612</td>\n",
       "      <td>14.027168</td>\n",
       "      <td>10.304187</td>\n",
       "      <td>10.991596</td>\n",
       "      <td>6.694350</td>\n",
       "      <td>7.475036</td>\n",
       "      <td>13.703052</td>\n",
       "      <td>9.992960</td>\n",
       "    </tr>\n",
       "    <tr>\n",
       "      <th>Other</th>\n",
       "      <td>14.438409</td>\n",
       "      <td>39.361987</td>\n",
       "      <td>26.313423</td>\n",
       "      <td>18.320469</td>\n",
       "      <td>23.855470</td>\n",
       "      <td>19.610836</td>\n",
       "      <td>19.226524</td>\n",
       "      <td>14.864553</td>\n",
       "      <td>9.992960</td>\n",
       "      <td>31.163771</td>\n",
       "    </tr>\n",
       "  </tbody>\n",
       "</table>\n",
       "</div>"
      ],
      "text/plain": [
       "           NoDur      Durbl      Manuf      Enrgy      HiTec      Telcm  \\\n",
       "NoDur  11.193422  18.449666  14.104907  10.531341  12.922949  11.968078   \n",
       "Durbl  18.449666  69.920577  39.178097  27.019794  35.466652  27.490543   \n",
       "Manuf  14.104907  39.178097  28.198970  23.145380  24.618739  19.550150   \n",
       "Enrgy  10.531341  27.019794  23.145380  36.984933  19.267276  15.366817   \n",
       "HiTec  12.922949  35.466652  24.618739  19.267276  28.957220  18.708273   \n",
       "Telcm  11.968078  27.490543  19.550150  15.366817  18.708273  19.787227   \n",
       "Shops  10.170832  27.444731  17.622867  11.297800  17.837115  14.169356   \n",
       "Hlth    9.953112  16.824003  13.596447   9.630327  13.254064  11.506599   \n",
       "Utils   7.866653  12.746136  11.440612  14.027168  10.304187  10.991596   \n",
       "Other  14.438409  39.361987  26.313423  18.320469  23.855470  19.610836   \n",
       "\n",
       "           Shops       Hlth      Utils      Other  \n",
       "NoDur  10.170832   9.953112   7.866653  14.438409  \n",
       "Durbl  27.444731  16.824003  12.746136  39.361987  \n",
       "Manuf  17.622867  13.596447  11.440612  26.313423  \n",
       "Enrgy  11.297800   9.630327  14.027168  18.320469  \n",
       "HiTec  17.837115  13.254064  10.304187  23.855470  \n",
       "Telcm  14.169356  11.506599  10.991596  19.610836  \n",
       "Shops  16.759084  10.178849   6.694350  19.226524  \n",
       "Hlth   10.178849  14.342669   7.475036  14.864553  \n",
       "Utils   6.694350   7.475036  13.703052   9.992960  \n",
       "Other  19.226524  14.864553   9.992960  31.163771  "
      ]
     },
     "execution_count": 17,
     "metadata": {},
     "output_type": "execute_result"
    }
   ],
   "source": [
    "portfolios_V = industry_portfolios.iloc[:, 0:10].cov()\n",
    "portfolios_V"
   ]
  },
  {
   "cell_type": "markdown",
   "id": "bf31cf93",
   "metadata": {},
   "source": [
    "> **Simulate w Following Uniform Distribution**"
   ]
  },
  {
   "cell_type": "code",
   "execution_count": 18,
   "id": "828102c0",
   "metadata": {},
   "outputs": [],
   "source": [
    "mean_return = []\n",
    "std_deviation_of_return = []\n",
    "def simulated_portfolio(times):\n",
    "    for i in range(times):\n",
    "        w0 = np.random.uniform(size = 10)\n",
    "        w = w0/sum(w0)\n",
    "        mean_return.append(np.sum(table.Mean_Return*w))\n",
    "        std_deviation_of_return.append((np.dot(np.dot(w.T, portfolios_V), w)**0.5))\n",
    "    return mean_return, std_deviation_of_return"
   ]
  },
  {
   "cell_type": "code",
   "execution_count": 19,
   "id": "71ef04b5",
   "metadata": {
    "scrolled": true
   },
   "outputs": [
    {
     "data": {
      "image/png": "[encoded data removed]",
      "text/plain": [
       "<Figure size 720x576 with 1 Axes>"
      ]
     },
     "metadata": {
      "needs_background": "light"
     },
     "output_type": "display_data"
    }
   ],
   "source": [
    "plt.figure(figsize = (10, 8))\n",
    "mean_return, std_deviation_of_return = simulated_portfolio(100000)\n",
    "plt.scatter(std_deviation_of_return, mean_return, color = 'lightskyblue', marker = 'o')\n",
    "plt.title('Minimum-Variance Frontier (No Short Sales)')\n",
    "plt.xlabel('Standard Deviation of Return (%)')\n",
    "plt.ylabel('Expected Return (%)')\n",
    "plt.show()"
   ]
  },
  {
   "cell_type": "markdown",
   "id": "e88315f9",
   "metadata": {},
   "source": [
    ">**Simulate 1/w**"
   ]
  },
  {
   "cell_type": "code",
   "execution_count": 20,
   "id": "5c8b32e2",
   "metadata": {},
   "outputs": [],
   "source": [
    "mean_return = []\n",
    "std_deviation_of_return = []\n",
    "def simulated_portfolio_2(times):\n",
    "    for i in range(times):\n",
    "        w0 = 1/np.random.uniform(size = 10)\n",
    "        w = w0/sum(w0)\n",
    "        mean_return.append(np.sum(table.Mean_Return*w))\n",
    "        std_deviation_of_return.append((np.dot(np.dot(w.T, portfolios_V), w)**0.5))\n",
    "    return mean_return, std_deviation_of_return"
   ]
  },
  {
   "cell_type": "code",
   "execution_count": 22,
   "id": "f88fc73f",
   "metadata": {},
   "outputs": [
    {
     "data": {
      "image/png": "[encoded data removed]",
      "text/plain": [
       "<Figure size 720x576 with 1 Axes>"
      ]
     },
     "metadata": {
      "needs_background": "light"
     },
     "output_type": "display_data"
    }
   ],
   "source": [
    "plt.figure(figsize = (10, 8))\n",
    "mean_return, std_deviation_of_return = simulated_portfolio_2(100000)\n",
    "plt.scatter(std_deviation_of_return, mean_return, color = 'turquoise')\n",
    "plt.title('Minimum-Variance Frontier (No Short Sales)')\n",
    "plt.xlabel('Standard Deviation of Return (%)')\n",
    "plt.ylabel('Expected Return (%)')\n",
    "plt.show()"
   ]
  }
 ],
 "metadata": {
  "kernelspec": {
   "display_name": "Python 3",
   "language": "python",
   "name": "python3"
  },
  "language_info": {
   "codemirror_mode": {
    "name": "ipython",
    "version": 3
   },
   "file_extension": ".py",
   "mimetype": "text/x-python",
   "name": "python",
   "nbconvert_exporter": "python",
   "pygments_lexer": "ipython3",
   "version": "3.8.8"
  }
 },
 "nbformat": 4,
 "nbformat_minor": 5
}
