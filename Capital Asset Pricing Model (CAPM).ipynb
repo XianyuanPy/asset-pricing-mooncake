{
 "cells": [
  {
   "cell_type": "markdown",
   "id": "b605cfa0",
   "metadata": {},
   "source": [
    "# Capital Asset Pricing Model (CAPM)\n"
   ]
  },
  {
   "cell_type": "code",
   "execution_count": 1,
   "id": "276f8cee",
   "metadata": {},
   "outputs": [],
   "source": [
    "import numpy as np\n",
    "import pandas as pd\n",
    "import matplotlib.pyplot as plt\n",
    "import statsmodels.api as sm\n",
    "%matplotlib inline"
   ]
  },
  {
   "cell_type": "code",
   "execution_count": 2,
   "id": "fc1e37e5",
   "metadata": {
    "scrolled": true
   },
   "outputs": [
    {
     "name": "stderr",
     "output_type": "stream",
     "text": [
      "/Users/ciel/opt/anaconda3/lib/python3.8/site-packages/openpyxl/worksheet/_reader.py:312: UserWarning: Unknown extension is not supported and will be removed\n",
      "  warn(msg)\n"
     ]
    }
   ],
   "source": [
    "industry_portfolios = pd.read_excel('Industry_Portfolios.xlsx')\n",
    "market_portfolio = pd.read_excel('Market_Portfolio.xlsx')"
   ]
  },
  {
   "cell_type": "code",
   "execution_count": 3,
   "id": "1541e77e",
   "metadata": {
    "scrolled": true
   },
   "outputs": [
    {
     "data": {
      "text/html": [
       "<div>\n",
       "<style scoped>\n",
       "    .dataframe tbody tr th:only-of-type {\n",
       "        vertical-align: middle;\n",
       "    }\n",
       "\n",
       "    .dataframe tbody tr th {\n",
       "        vertical-align: top;\n",
       "    }\n",
       "\n",
       "    .dataframe thead th {\n",
       "        text-align: right;\n",
       "    }\n",
       "</style>\n",
       "<table border=\"1\" class=\"dataframe\">\n",
       "  <thead>\n",
       "    <tr style=\"text-align: right;\">\n",
       "      <th></th>\n",
       "      <th>NoDur</th>\n",
       "      <th>Durbl</th>\n",
       "      <th>Manuf</th>\n",
       "      <th>Enrgy</th>\n",
       "      <th>HiTec</th>\n",
       "      <th>Telcm</th>\n",
       "      <th>Shops</th>\n",
       "      <th>Hlth</th>\n",
       "      <th>Utils</th>\n",
       "      <th>Other</th>\n",
       "    </tr>\n",
       "    <tr>\n",
       "      <th>Date</th>\n",
       "      <th></th>\n",
       "      <th></th>\n",
       "      <th></th>\n",
       "      <th></th>\n",
       "      <th></th>\n",
       "      <th></th>\n",
       "      <th></th>\n",
       "      <th></th>\n",
       "      <th></th>\n",
       "      <th></th>\n",
       "    </tr>\n",
       "  </thead>\n",
       "  <tbody>\n",
       "    <tr>\n",
       "      <th>200401</th>\n",
       "      <td>0.06</td>\n",
       "      <td>-1.07</td>\n",
       "      <td>-0.62</td>\n",
       "      <td>0.44</td>\n",
       "      <td>4.53</td>\n",
       "      <td>1.41</td>\n",
       "      <td>0.45</td>\n",
       "      <td>3.09</td>\n",
       "      <td>1.92</td>\n",
       "      <td>2.88</td>\n",
       "    </tr>\n",
       "    <tr>\n",
       "      <th>200402</th>\n",
       "      <td>4.25</td>\n",
       "      <td>-0.07</td>\n",
       "      <td>1.95</td>\n",
       "      <td>4.69</td>\n",
       "      <td>-2.92</td>\n",
       "      <td>-0.52</td>\n",
       "      <td>6.09</td>\n",
       "      <td>0.89</td>\n",
       "      <td>2.07</td>\n",
       "      <td>2.16</td>\n",
       "    </tr>\n",
       "  </tbody>\n",
       "</table>\n",
       "</div>"
      ],
      "text/plain": [
       "        NoDur  Durbl  Manuf  Enrgy  HiTec  Telcm  Shops  Hlth  Utils  Other\n",
       "Date                                                                       \n",
       "200401   0.06  -1.07  -0.62   0.44   4.53   1.41   0.45  3.09   1.92   2.88\n",
       "200402   4.25  -0.07   1.95   4.69  -2.92  -0.52   6.09  0.89   2.07   2.16"
      ]
     },
     "execution_count": 3,
     "metadata": {},
     "output_type": "execute_result"
    }
   ],
   "source": [
    "industry_portfolios = industry_portfolios.set_index('Date') \n",
    "industry_portfolios.head(2)"
   ]
  },
  {
   "cell_type": "code",
   "execution_count": 4,
   "id": "e623b25c",
   "metadata": {},
   "outputs": [
    {
     "data": {
      "text/html": [
       "<div>\n",
       "<style scoped>\n",
       "    .dataframe tbody tr th:only-of-type {\n",
       "        vertical-align: middle;\n",
       "    }\n",
       "\n",
       "    .dataframe tbody tr th {\n",
       "        vertical-align: top;\n",
       "    }\n",
       "\n",
       "    .dataframe thead th {\n",
       "        text-align: right;\n",
       "    }\n",
       "</style>\n",
       "<table border=\"1\" class=\"dataframe\">\n",
       "  <thead>\n",
       "    <tr style=\"text-align: right;\">\n",
       "      <th></th>\n",
       "      <th>Market</th>\n",
       "    </tr>\n",
       "    <tr>\n",
       "      <th>Date</th>\n",
       "      <th></th>\n",
       "    </tr>\n",
       "  </thead>\n",
       "  <tbody>\n",
       "    <tr>\n",
       "      <th>200401</th>\n",
       "      <td>2.22</td>\n",
       "    </tr>\n",
       "    <tr>\n",
       "      <th>200402</th>\n",
       "      <td>1.46</td>\n",
       "    </tr>\n",
       "  </tbody>\n",
       "</table>\n",
       "</div>"
      ],
      "text/plain": [
       "        Market\n",
       "Date          \n",
       "200401    2.22\n",
       "200402    1.46"
      ]
     },
     "execution_count": 4,
     "metadata": {},
     "output_type": "execute_result"
    }
   ],
   "source": [
    "market_portfolio = market_portfolio.set_index('Date')\n",
    "market_portfolio.head(2)"
   ]
  },
  {
   "cell_type": "markdown",
   "id": "968d2760",
   "metadata": {},
   "source": [
    "### OLS Regression for Market Model"
   ]
  },
  {
   "cell_type": "markdown",
   "id": "fe343e47",
   "metadata": {},
   "source": [
    ">**Create dataset of excess returns of the market portfolio and industry portfolios**"
   ]
  },
  {
   "cell_type": "code",
   "execution_count": 5,
   "id": "3f3fd46d",
   "metadata": {
    "scrolled": false
   },
   "outputs": [
    {
     "data": {
      "text/html": [
       "<div>\n",
       "<style scoped>\n",
       "    .dataframe tbody tr th:only-of-type {\n",
       "        vertical-align: middle;\n",
       "    }\n",
       "\n",
       "    .dataframe tbody tr th {\n",
       "        vertical-align: top;\n",
       "    }\n",
       "\n",
       "    .dataframe thead th {\n",
       "        text-align: right;\n",
       "    }\n",
       "</style>\n",
       "<table border=\"1\" class=\"dataframe\">\n",
       "  <thead>\n",
       "    <tr style=\"text-align: right;\">\n",
       "      <th></th>\n",
       "      <th>Market</th>\n",
       "      <th>NoDur</th>\n",
       "      <th>Durbl</th>\n",
       "      <th>Manuf</th>\n",
       "      <th>Enrgy</th>\n",
       "      <th>HiTec</th>\n",
       "      <th>Telcm</th>\n",
       "      <th>Shops</th>\n",
       "      <th>Hlth</th>\n",
       "      <th>Utils</th>\n",
       "      <th>Other</th>\n",
       "    </tr>\n",
       "    <tr>\n",
       "      <th>Date</th>\n",
       "      <th></th>\n",
       "      <th></th>\n",
       "      <th></th>\n",
       "      <th></th>\n",
       "      <th></th>\n",
       "      <th></th>\n",
       "      <th></th>\n",
       "      <th></th>\n",
       "      <th></th>\n",
       "      <th></th>\n",
       "      <th></th>\n",
       "    </tr>\n",
       "  </thead>\n",
       "  <tbody>\n",
       "    <tr>\n",
       "      <th>200401</th>\n",
       "      <td>2.09</td>\n",
       "      <td>-0.07</td>\n",
       "      <td>-1.2</td>\n",
       "      <td>-0.75</td>\n",
       "      <td>0.31</td>\n",
       "      <td>4.40</td>\n",
       "      <td>1.28</td>\n",
       "      <td>0.32</td>\n",
       "      <td>2.96</td>\n",
       "      <td>1.79</td>\n",
       "      <td>2.75</td>\n",
       "    </tr>\n",
       "    <tr>\n",
       "      <th>200402</th>\n",
       "      <td>1.33</td>\n",
       "      <td>4.12</td>\n",
       "      <td>-0.2</td>\n",
       "      <td>1.82</td>\n",
       "      <td>4.56</td>\n",
       "      <td>-3.05</td>\n",
       "      <td>-0.65</td>\n",
       "      <td>5.96</td>\n",
       "      <td>0.76</td>\n",
       "      <td>1.94</td>\n",
       "      <td>2.03</td>\n",
       "    </tr>\n",
       "  </tbody>\n",
       "</table>\n",
       "</div>"
      ],
      "text/plain": [
       "        Market  NoDur  Durbl  Manuf  Enrgy  HiTec  Telcm  Shops  Hlth  Utils  \\\n",
       "Date                                                                           \n",
       "200401    2.09  -0.07   -1.2  -0.75   0.31   4.40   1.28   0.32  2.96   1.79   \n",
       "200402    1.33   4.12   -0.2   1.82   4.56  -3.05  -0.65   5.96  0.76   1.94   \n",
       "\n",
       "        Other  \n",
       "Date           \n",
       "200401   2.75  \n",
       "200402   2.03  "
      ]
     },
     "execution_count": 5,
     "metadata": {},
     "output_type": "execute_result"
    }
   ],
   "source": [
    "Rf = 0.13\n",
    "excess_return = pd.concat([market_portfolio['Market'] - Rf, industry_portfolios - Rf], axis = 1)\n",
    "excess_return.head(2)"
   ]
  },
  {
   "cell_type": "markdown",
   "id": "f84e7f2f",
   "metadata": {},
   "source": [
    "> **Regress and create a table of the intercept and slope coefficients for the industry portfolios**"
   ]
  },
  {
   "cell_type": "code",
   "execution_count": 6,
   "id": "ba1d8823",
   "metadata": {
    "scrolled": true
   },
   "outputs": [
    {
     "name": "stderr",
     "output_type": "stream",
     "text": [
      "/Users/ciel/opt/anaconda3/lib/python3.8/site-packages/statsmodels/tsa/tsatools.py:142: FutureWarning: In a future version of pandas all arguments of concat except for the argument 'objs' will be keyword-only\n",
      "  x = pd.concat(x[::order], 1)\n"
     ]
    },
    {
     "data": {
      "text/html": [
       "<div>\n",
       "<style scoped>\n",
       "    .dataframe tbody tr th:only-of-type {\n",
       "        vertical-align: middle;\n",
       "    }\n",
       "\n",
       "    .dataframe tbody tr th {\n",
       "        vertical-align: top;\n",
       "    }\n",
       "\n",
       "    .dataframe thead th {\n",
       "        text-align: right;\n",
       "    }\n",
       "</style>\n",
       "<table border=\"1\" class=\"dataframe\">\n",
       "  <thead>\n",
       "    <tr style=\"text-align: right;\">\n",
       "      <th></th>\n",
       "      <th>NoDur</th>\n",
       "      <th>Durbl</th>\n",
       "      <th>Manuf</th>\n",
       "      <th>Enrgy</th>\n",
       "      <th>HiTec</th>\n",
       "      <th>Telcm</th>\n",
       "      <th>Shops</th>\n",
       "      <th>Hlth</th>\n",
       "      <th>Utils</th>\n",
       "      <th>Other</th>\n",
       "    </tr>\n",
       "  </thead>\n",
       "  <tbody>\n",
       "    <tr>\n",
       "      <th>alpha</th>\n",
       "      <td>0.369443</td>\n",
       "      <td>-0.415599</td>\n",
       "      <td>0.159771</td>\n",
       "      <td>0.501719</td>\n",
       "      <td>-0.064020</td>\n",
       "      <td>0.194691</td>\n",
       "      <td>0.275492</td>\n",
       "      <td>0.237841</td>\n",
       "      <td>0.444585</td>\n",
       "      <td>-0.387135</td>\n",
       "    </tr>\n",
       "    <tr>\n",
       "      <th>beta</th>\n",
       "      <td>0.652647</td>\n",
       "      <td>1.648536</td>\n",
       "      <td>1.169846</td>\n",
       "      <td>0.969850</td>\n",
       "      <td>1.132969</td>\n",
       "      <td>0.900729</td>\n",
       "      <td>0.826492</td>\n",
       "      <td>0.673036</td>\n",
       "      <td>0.538086</td>\n",
       "      <td>1.207309</td>\n",
       "    </tr>\n",
       "  </tbody>\n",
       "</table>\n",
       "</div>"
      ],
      "text/plain": [
       "          NoDur     Durbl     Manuf     Enrgy     HiTec     Telcm     Shops  \\\n",
       "alpha  0.369443 -0.415599  0.159771  0.501719 -0.064020  0.194691  0.275492   \n",
       "beta   0.652647  1.648536  1.169846  0.969850  1.132969  0.900729  0.826492   \n",
       "\n",
       "           Hlth     Utils     Other  \n",
       "alpha  0.237841  0.444585 -0.387135  \n",
       "beta   0.673036  0.538086  1.207309  "
      ]
     },
     "execution_count": 6,
     "metadata": {},
     "output_type": "execute_result"
    }
   ],
   "source": [
    "alpha = []\n",
    "beta = []\n",
    "\n",
    "# Function for regression and return coefficient\n",
    "def linear_regression(independent_variable):\n",
    "    x = sm.add_constant(excess_return['Market'])\n",
    "    MODEL = sm.OLS(excess_return[independent_variable], x).fit()\n",
    "    #print(MODEL.summary())\n",
    "    alpha.append(MODEL.params[0])\n",
    "    beta.append(MODEL.params[1])\n",
    "    return alpha, beta\n",
    "\n",
    "#Run OLS regression and generate the table of the intercept and slope coefficient\n",
    "for portfolio in industry_portfolios.columns:\n",
    "    linear_regression(portfolio)\n",
    "\n",
    "coefficient = pd.DataFrame([alpha, beta], index = ['alpha', 'beta'], columns = industry_portfolios.columns)\n",
    "coefficient"
   ]
  },
  {
   "cell_type": "markdown",
   "id": "b53b47f9",
   "metadata": {},
   "source": [
    "**Economic Significance of Coefficients**"
   ]
  },
  {
   "cell_type": "markdown",
   "id": "c955ef89",
   "metadata": {},
   "source": [
    "- Intercept coefficient shows pricing error for the portfolio and cannot be explained by CAPM. If alpha > 0 means overprice, investors should buy the portfolio, and vice versa. \n",
    "- Slope coefficient estimate the beta in CAPM, measures the amount of exposure to market risk."
   ]
  },
  {
   "cell_type": "markdown",
   "id": "231f6d74",
   "metadata": {},
   "source": [
    "### OLS Regression for Security Market Line (SML)"
   ]
  },
  {
   "cell_type": "markdown",
   "id": "f298e3ad",
   "metadata": {},
   "source": [
    "> **Mean monthly returns of the market portfolio and industry portfolios**"
   ]
  },
  {
   "cell_type": "code",
   "execution_count": 7,
   "id": "5411cb1e",
   "metadata": {
    "scrolled": true
   },
   "outputs": [
    {
     "data": {
      "text/plain": [
       "NoDur     0.902833\n",
       "Durbl     0.733333\n",
       "Manuf     1.012833\n",
       "Enrgy     1.231167\n",
       "HiTec     0.766250\n",
       "Telcm     0.881417\n",
       "Shops     0.916333\n",
       "Hlth      0.783833\n",
       "Utils     0.907167\n",
       "Other     0.489083\n",
       "Market    0.748083\n",
       "dtype: float64"
      ]
     },
     "execution_count": 7,
     "metadata": {},
     "output_type": "execute_result"
    }
   ],
   "source": [
    "portfolio = pd.concat([industry_portfolios, market_portfolio], axis = 1)\n",
    "portfolio.mean()"
   ]
  },
  {
   "cell_type": "markdown",
   "id": "2eff0ad9",
   "metadata": {},
   "source": [
    ">**Regress and get the intercept and slope coefficient of SML**"
   ]
  },
  {
   "cell_type": "code",
   "execution_count": 8,
   "id": "56bc5f6d",
   "metadata": {
    "scrolled": true
   },
   "outputs": [
    {
     "name": "stdout",
     "output_type": "stream",
     "text": [
      "const    1.032768\n",
      "beta    -0.185467\n",
      "dtype: float64\n"
     ]
    },
    {
     "name": "stderr",
     "output_type": "stream",
     "text": [
      "/Users/ciel/opt/anaconda3/lib/python3.8/site-packages/statsmodels/tsa/tsatools.py:142: FutureWarning: In a future version of pandas all arguments of concat except for the argument 'objs' will be keyword-only\n",
      "  x = pd.concat(x[::order], 1)\n"
     ]
    }
   ],
   "source": [
    "# Add the beta of market portfolio into the beta set\n",
    "beta.append(1)\n",
    "\n",
    "#Create a table for regression\n",
    "sml_data = pd.DataFrame([list(portfolio.mean()), beta], index = ['portfolio', 'beta'], columns = portfolio.columns)\n",
    "\n",
    "#Regress and print coefficients\n",
    "x = sm.add_constant(sml_data.T['beta'])\n",
    "SML = sm.OLS(sml_data.T['portfolio'], x).fit()\n",
    "print(SML.params)"
   ]
  },
  {
   "cell_type": "markdown",
   "id": "7510b71f",
   "metadata": {},
   "source": [
    ">**SML Visualization**"
   ]
  },
  {
   "cell_type": "code",
   "execution_count": 9,
   "id": "ff700c90",
   "metadata": {},
   "outputs": [
    {
     "data": {
      "image/png": "[encoded data removed]",
      "text/plain": [
       "<Figure size 720x576 with 1 Axes>"
      ]
     },
     "metadata": {
      "needs_background": "light"
     },
     "output_type": "display_data"
    }
   ],
   "source": [
    "beta = np.arange(0, 2.1, 0.1)\n",
    "mean_returns = []\n",
    "for b in beta:\n",
    "    Rp = SML.params[0] + SML.params[1] * b\n",
    "    mean_returns.append(Rp)\n",
    "\n",
    "plt.figure(figsize = (10, 8))\n",
    "plt.plot(beta , mean_returns, label = 'SML')\n",
    "plt.scatter('beta', 'portfolio', data = sml_data.T, marker = '.', color = 'r', label = 'Industry Porfolios')\n",
    "plt.xlim(0, 2)\n",
    "plt.title('SML')\n",
    "plt.xlabel('beta', fontsize = 12)\n",
    "plt.ylabel('mean return (%)', fontsize = 12)\n",
    "plt.xlim(0, 2)\n",
    "plt.grid(axis = 'y', linestyle = '--')\n",
    "plt.legend()\n",
    "plt.show()"
   ]
  },
  {
   "cell_type": "markdown",
   "id": "a468027c",
   "metadata": {},
   "source": [
    "**Ecomonic Significance of SML:**\n",
    "- It shows the amount of risk premium for the given beta of portfolios or assets. If an asset lies above the line means overpricing, and vice versa. Over time, the market force will drive to market equilibrium, under which circumstances all assets and their combinations that can be created in a given financial market should lie on SML."
   ]
  }
 ],
 "metadata": {
  "kernelspec": {
   "display_name": "Python 3",
   "language": "python",
   "name": "python3"
  },
  "language_info": {
   "codemirror_mode": {
    "name": "ipython",
    "version": 3
   },
   "file_extension": ".py",
   "mimetype": "text/x-python",
   "name": "python",
   "nbconvert_exporter": "python",
   "pygments_lexer": "ipython3",
   "version": "3.8.8"
  }
 },
 "nbformat": 4,
 "nbformat_minor": 5
}
